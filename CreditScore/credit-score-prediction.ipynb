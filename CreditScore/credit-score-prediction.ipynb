{
 "cells": [
  {
   "cell_type": "code",
   "execution_count": 1,
   "metadata": {
    "_cell_guid": "b1076dfc-b9ad-4769-8c92-a6c4dae69d19",
    "_uuid": "8f2839f25d086af736a60e9eeb907d3b93b6e0e5"
   },
   "outputs": [],
   "source": [
    "import numpy as np # linear algebra\n",
    "import pandas as pd # data processing, CSV file I/O (e.g. pd.read_csv)\n",
    "import fun_py as fp\n",
    "\n"
   ]
  },
  {
   "cell_type": "code",
   "execution_count": 2,
   "metadata": {
    "_cell_guid": "79c7e3d0-c299-4dcb-8224-4455121ee9b0",
    "_uuid": "d629ff2d2480ee46fbb7e2d37f6b5fab8052498a"
   },
   "outputs": [],
   "source": [
    "train= pd.read_csv(\"../input/credit-score-prediction/CreditScore_train.csv\")\n",
    "test= pd.read_csv(\"../input/credit-score-prediction/CreditScore_test.csv\")"
   ]
  },
  {
   "cell_type": "code",
   "execution_count": 3,
   "metadata": {},
   "outputs": [
    {
     "name": "stdout",
     "output_type": "stream",
     "text": [
      "Train Data Shape b4 adding target col :  (80000, 305)\n",
      "Test Data Shape b4 adding target col :  (20000, 305)\n"
     ]
    }
   ],
   "source": [
    "print(\"Train Data Shape b4 adding target col : \",train.shape)\n",
    "print(\"Test Data Shape b4 adding target col : \",test.shape)"
   ]
  },
  {
   "cell_type": "code",
   "execution_count": 4,
   "metadata": {},
   "outputs": [
    {
     "name": "stdout",
     "output_type": "stream",
     "text": [
      "Train Data Shape aftr adding target col :  (80000, 306)\n",
      "Test Data Shape aftr adding target col :  (20000, 306)\n"
     ]
    }
   ],
   "source": [
    "train[\"source\"] = \"train\"\n",
    "test[\"source\"] = \"test\"\n",
    "print(\"Train Data Shape aftr adding target col : \",train.shape)\n",
    "print(\"Test Data Shape aftr adding target col : \",test.shape)"
   ]
  },
  {
   "cell_type": "code",
   "execution_count": 5,
   "metadata": {},
   "outputs": [],
   "source": [
    "df = pd.concat([train,test])"
   ]
  },
  {
   "cell_type": "code",
   "execution_count": 6,
   "metadata": {},
   "outputs": [
    {
     "name": "stdout",
     "output_type": "stream",
     "text": [
      "Number of Duplicate Records 0\n"
     ]
    }
   ],
   "source": [
    "fp.data_duplicates(df,0)"
   ]
  },
  {
   "cell_type": "code",
   "execution_count": 7,
   "metadata": {},
   "outputs": [
    {
     "name": "stdout",
     "output_type": "stream",
     "text": [
      "Number of NA in Column x002 : 21432\n",
      "Number of NA in Column x003 : 21432\n",
      "Number of NA in Column x004 : 21424\n",
      "Number of NA in Column x005 : 6110\n",
      "Number of NA in Column x041 : 36872\n",
      "Number of NA in Column x044 : 19674\n",
      "Number of NA in Column x045 : 19674\n",
      "Number of NA in Column x057 : 36872\n",
      "Number of NA in Column x058 : 36872\n",
      "Number of NA in Column x098 : 80681\n",
      "Number of NA in Column x148 : 41785\n",
      "Number of NA in Column x155 : 79051\n",
      "Number of NA in Column x162 : 66481\n",
      "Number of NA in Column x222 : 36987\n",
      "Number of NA in Column x223 : 37069\n",
      "Number of NA in Column x234 : 19110\n",
      "Number of NA in Column x235 : 20083\n",
      "Number of NA in Column x237 : 36744\n",
      "Number of NA in Column x238 : 36744\n",
      "Number of NA in Column x239 : 36744\n",
      "Number of NA in Column x242 : 93339\n",
      "Number of NA in Column x253 : 66333\n",
      "Number of NA in Column x255 : 76913\n",
      "Number of NA in Column x256 : 76913\n",
      "Number of NA in Column x257 : 76913\n",
      "Number of NA in Column x259 : 77432\n",
      "Number of NA in Column x265 : 66461\n",
      "Number of NA in Column x266 : 66461\n",
      "Number of NA in Column x267 : 66461\n",
      "Number of NA in Column x268 : 67253\n",
      "Number of NA in Column x272 : 7189\n",
      "Number of NA in Column x275 : 56131\n",
      "Number of NA in Column x287 : 24821\n",
      "Number of NA in Column x288 : 49756\n",
      "Number of NA in Column x289 : 49756\n",
      "Number of NA in Column x290 : 49756\n",
      "Number of NA in Column x293 : 51133\n",
      "Number of NA in Column x295 : 86533\n",
      "Number of NA in Column x297 : 58112\n",
      "Number of NA in Column x302 : 73069\n",
      "Number of NA in Column x304 : 81875\n"
     ]
    }
   ],
   "source": [
    "fp.data_isna(df)"
   ]
  },
  {
   "cell_type": "code",
   "execution_count": 8,
   "metadata": {},
   "outputs": [],
   "source": [
    "\n",
    "#fp.data_groupcols(df)"
   ]
  },
  {
   "cell_type": "code",
   "execution_count": 9,
   "metadata": {},
   "outputs": [
    {
     "data": {
      "text/plain": [
       "(100000, 306)"
      ]
     },
     "execution_count": 9,
     "metadata": {},
     "output_type": "execute_result"
    }
   ],
   "source": [
    "df.shape"
   ]
  },
  {
   "cell_type": "code",
   "execution_count": 10,
   "metadata": {},
   "outputs": [],
   "source": [
    "lst=[]\n",
    "lst=df.columns"
   ]
  },
  {
   "cell_type": "code",
   "execution_count": 11,
   "metadata": {},
   "outputs": [],
   "source": [
    "row=df.shape[0]\n",
    "cols=[]"
   ]
  },
  {
   "cell_type": "code",
   "execution_count": 12,
   "metadata": {},
   "outputs": [
    {
     "data": {
      "text/plain": [
       "0"
      ]
     },
     "execution_count": 12,
     "metadata": {},
     "output_type": "execute_result"
    }
   ],
   "source": [
    "len(cols)"
   ]
  },
  {
   "cell_type": "code",
   "execution_count": 13,
   "metadata": {},
   "outputs": [
    {
     "data": {
      "text/plain": [
       "[None, None, None, None, None, None, None, None, None, None]"
      ]
     },
     "execution_count": 13,
     "metadata": {},
     "output_type": "execute_result"
    }
   ],
   "source": [
    "[cols.append(i) for i in lst if df[i].isnull().sum()/row*100 > 70 ]"
   ]
  },
  {
   "cell_type": "code",
   "execution_count": 14,
   "metadata": {},
   "outputs": [
    {
     "data": {
      "text/plain": [
       "10"
      ]
     },
     "execution_count": 14,
     "metadata": {},
     "output_type": "execute_result"
    }
   ],
   "source": [
    "len(cols)"
   ]
  },
  {
   "cell_type": "code",
   "execution_count": 15,
   "metadata": {},
   "outputs": [
    {
     "data": {
      "text/plain": [
       "['x098',\n",
       " 'x155',\n",
       " 'x242',\n",
       " 'x255',\n",
       " 'x256',\n",
       " 'x257',\n",
       " 'x259',\n",
       " 'x295',\n",
       " 'x302',\n",
       " 'x304']"
      ]
     },
     "execution_count": 15,
     "metadata": {},
     "output_type": "execute_result"
    }
   ],
   "source": [
    "cols"
   ]
  },
  {
   "cell_type": "markdown",
   "metadata": {},
   "source": [
    "Removing columns which has more than 70% of NA Values . 10 cols (x098,x155,x242,x255,x256,x257,x259,x295,x302,x304) are removed"
   ]
  },
  {
   "cell_type": "code",
   "execution_count": 16,
   "metadata": {},
   "outputs": [],
   "source": [
    "data=df.drop(cols,axis=1)"
   ]
  },
  {
   "cell_type": "code",
   "execution_count": 17,
   "metadata": {},
   "outputs": [
    {
     "data": {
      "text/plain": [
       "(100000, 296)"
      ]
     },
     "execution_count": 17,
     "metadata": {},
     "output_type": "execute_result"
    }
   ],
   "source": [
    "data.shape"
   ]
  },
  {
   "cell_type": "code",
   "execution_count": 18,
   "metadata": {},
   "outputs": [
    {
     "name": "stdout",
     "output_type": "stream",
     "text": [
      "Column Name : x002 --> Null Values : 21432\n",
      "Column Name : x003 --> Null Values : 21432\n",
      "Column Name : x004 --> Null Values : 21424\n",
      "Column Name : x005 --> Null Values : 6110\n",
      "Column Name : x041 --> Null Values : 36872\n",
      "Column Name : x044 --> Null Values : 19674\n",
      "Column Name : x045 --> Null Values : 19674\n",
      "Column Name : x057 --> Null Values : 36872\n",
      "Column Name : x058 --> Null Values : 36872\n",
      "Column Name : x148 --> Null Values : 41785\n",
      "Column Name : x162 --> Null Values : 66481\n",
      "Column Name : x222 --> Null Values : 36987\n",
      "Column Name : x223 --> Null Values : 37069\n",
      "Column Name : x234 --> Null Values : 19110\n",
      "Column Name : x235 --> Null Values : 20083\n",
      "Column Name : x237 --> Null Values : 36744\n",
      "Column Name : x238 --> Null Values : 36744\n",
      "Column Name : x239 --> Null Values : 36744\n",
      "Column Name : x253 --> Null Values : 66333\n",
      "Column Name : x265 --> Null Values : 66461\n",
      "Column Name : x266 --> Null Values : 66461\n",
      "Column Name : x267 --> Null Values : 66461\n",
      "Column Name : x268 --> Null Values : 67253\n",
      "Column Name : x272 --> Null Values : 7189\n",
      "Column Name : x275 --> Null Values : 56131\n",
      "Column Name : x287 --> Null Values : 24821\n",
      "Column Name : x288 --> Null Values : 49756\n",
      "Column Name : x289 --> Null Values : 49756\n",
      "Column Name : x290 --> Null Values : 49756\n",
      "Column Name : x293 --> Null Values : 51133\n",
      "Column Name : x297 --> Null Values : 58112\n"
     ]
    }
   ],
   "source": [
    "fp.data_nullcols(data,0)"
   ]
  },
  {
   "cell_type": "code",
   "execution_count": 19,
   "metadata": {},
   "outputs": [],
   "source": [
    "#fp.data_groupcols(data)"
   ]
  },
  {
   "cell_type": "code",
   "execution_count": 20,
   "metadata": {},
   "outputs": [],
   "source": [
    "pd.options.display.max_rows = 4000\n",
    "\n",
    "colg=data.corr()['y'].sort_values() > 0.3\n",
    "coll=data.corr()['y'].sort_values() <-0.3"
   ]
  },
  {
   "cell_type": "code",
   "execution_count": 21,
   "metadata": {},
   "outputs": [
    {
     "data": {
      "text/plain": [
       "(100000, 296)"
      ]
     },
     "execution_count": 21,
     "metadata": {},
     "output_type": "execute_result"
    }
   ],
   "source": [
    "data.shape"
   ]
  },
  {
   "cell_type": "code",
   "execution_count": 22,
   "metadata": {},
   "outputs": [
    {
     "data": {
      "text/plain": [
       "0"
      ]
     },
     "execution_count": 22,
     "metadata": {},
     "output_type": "execute_result"
    }
   ],
   "source": [
    "lstg=[]\n",
    "lstl=[]\n",
    "lstg.clear()\n",
    "lstg.clear()\n",
    "len(lstg)\n",
    "len(lstl)\n",
    "        "
   ]
  },
  {
   "cell_type": "code",
   "execution_count": 23,
   "metadata": {},
   "outputs": [
    {
     "data": {
      "text/plain": [
       "[None,\n",
       " None,\n",
       " None,\n",
       " None,\n",
       " None,\n",
       " None,\n",
       " None,\n",
       " None,\n",
       " None,\n",
       " None,\n",
       " None,\n",
       " None,\n",
       " None,\n",
       " None,\n",
       " None,\n",
       " None,\n",
       " None,\n",
       " None,\n",
       " None,\n",
       " None,\n",
       " None,\n",
       " None]"
      ]
     },
     "execution_count": 23,
     "metadata": {},
     "output_type": "execute_result"
    }
   ],
   "source": [
    "[lstg.append(i) for i,j in colg.items() if j == True]\n",
    "[lstl.append(i) for i,j in coll.items() if j == True]\n"
   ]
  },
  {
   "cell_type": "code",
   "execution_count": 24,
   "metadata": {},
   "outputs": [
    {
     "name": "stdout",
     "output_type": "stream",
     "text": [
      "Length of lstl 22\n",
      "Length of lstg 40\n"
     ]
    }
   ],
   "source": [
    "print(\"Length of lstl\",len(lstl))\n",
    "print(\"Length of lstg\",len(lstg))"
   ]
  },
  {
   "cell_type": "code",
   "execution_count": 25,
   "metadata": {},
   "outputs": [
    {
     "name": "stdout",
     "output_type": "stream",
     "text": [
      "Length of lstd 0\n"
     ]
    }
   ],
   "source": [
    "lstd=[]\n",
    "#lstd=lstg+lstl\n",
    "print(\"Length of lstd\",len(lstd))\n"
   ]
  },
  {
   "cell_type": "code",
   "execution_count": 26,
   "metadata": {},
   "outputs": [
    {
     "name": "stdout",
     "output_type": "stream",
     "text": [
      "Length of lstd 62\n"
     ]
    }
   ],
   "source": [
    "lstd=lstg+lstl\n",
    "print(\"Length of lstd\",len(lstd))"
   ]
  },
  {
   "cell_type": "code",
   "execution_count": 27,
   "metadata": {},
   "outputs": [],
   "source": [
    "data_cols=data.columns"
   ]
  },
  {
   "cell_type": "code",
   "execution_count": 28,
   "metadata": {},
   "outputs": [],
   "source": [
    "#data.corr('x002')['y']\n",
    "#data['x002'].corr(data['y'])\n",
    "#df['A'].corr(df['B'])\n",
    "#pd.options.display.max_columns = 4000\n",
    "#data.corr()"
   ]
  },
  {
   "cell_type": "code",
   "execution_count": 29,
   "metadata": {},
   "outputs": [
    {
     "data": {
      "text/plain": [
       "x001    0.164841\n",
       "x003    0.121207\n",
       "x006    0.092144\n",
       "x007    0.008623\n",
       "x008    0.021920\n",
       "x009    0.001522\n",
       "x010    0.043654\n",
       "x011    0.113111\n",
       "x012    0.117558\n",
       "x013    0.178163\n",
       "x016    0.194172\n",
       "x021    0.242804\n",
       "x024    0.059221\n",
       "x026    0.212508\n",
       "x029    0.217832\n",
       "x031    0.280099\n",
       "x032    0.077719\n",
       "x033    0.112868\n",
       "x034    0.191694\n",
       "x035    0.254842\n",
       "x037    0.091270\n",
       "x038    0.125037\n",
       "x039    0.216553\n",
       "x040    0.291714\n",
       "x042    0.293363\n",
       "x044    0.212458\n",
       "x045    0.145432\n",
       "x048    0.195027\n",
       "x049    0.137282\n",
       "x050    0.096114\n",
       "x051    0.059743\n",
       "x052    0.029612\n",
       "x053    0.012722\n",
       "x054    0.022510\n",
       "x055    0.091911\n",
       "x060    0.001973\n",
       "x061    0.177372\n",
       "x062    0.293974\n",
       "x066    0.212327\n",
       "x068    0.059887\n",
       "x069    0.106879\n",
       "x070    0.138074\n",
       "x071    0.183339\n",
       "x072    0.204699\n",
       "x073    0.284965\n",
       "x074    0.175537\n",
       "x075    0.260677\n",
       "x076    0.192416\n",
       "x077    0.047028\n",
       "x078    0.090930\n",
       "x079    0.113628\n",
       "x080    0.161110\n",
       "x081    0.178198\n",
       "x082    0.088651\n",
       "x083    0.039574\n",
       "x084    0.033738\n",
       "x085    0.041799\n",
       "x086    0.068299\n",
       "x087    0.078563\n",
       "x088    0.081274\n",
       "x089    0.229252\n",
       "x090    0.071259\n",
       "x091    0.105102\n",
       "x092    0.050871\n",
       "x093    0.026350\n",
       "x097    0.191670\n",
       "x100    0.203669\n",
       "x101    0.189044\n",
       "x102    0.128978\n",
       "x103    0.184405\n",
       "x104    0.263943\n",
       "x105    0.218818\n",
       "x106    0.257499\n",
       "x107    0.087620\n",
       "x108    0.176340\n",
       "x109    0.115120\n",
       "x110    0.190352\n",
       "x111    0.212927\n",
       "x112    0.262335\n",
       "x113    0.245161\n",
       "x114    0.212541\n",
       "x115    0.190357\n",
       "x116    0.174744\n",
       "x117    0.256652\n",
       "x118    0.249917\n",
       "x119    0.237546\n",
       "x120    0.224038\n",
       "x121    0.213654\n",
       "x122    0.218341\n",
       "x123    0.211640\n",
       "x124    0.191682\n",
       "x125    0.176770\n",
       "x126    0.165164\n",
       "x127    0.197535\n",
       "x128    0.196012\n",
       "x129    0.193566\n",
       "x130    0.186602\n",
       "x131    0.181232\n",
       "x132    0.161091\n",
       "x133    0.179590\n",
       "x134    0.177944\n",
       "x135    0.171089\n",
       "x136    0.167454\n",
       "x137    0.162993\n",
       "x138    0.167648\n",
       "x139    0.170393\n",
       "x140    0.167724\n",
       "x141    0.165153\n",
       "x142    0.134277\n",
       "x143    0.146004\n",
       "x144    0.152658\n",
       "x145    0.152649\n",
       "x146    0.151325\n",
       "x147    0.261755\n",
       "x149    0.208060\n",
       "x150    0.199072\n",
       "x151    0.177974\n",
       "x152    0.163995\n",
       "x153    0.153079\n",
       "x154    0.080425\n",
       "x156    0.077350\n",
       "x157    0.076292\n",
       "x158    0.073103\n",
       "x159    0.067958\n",
       "x160    0.063697\n",
       "x161    0.178630\n",
       "x163    0.165773\n",
       "x164    0.156295\n",
       "x165    0.142245\n",
       "x166    0.132312\n",
       "x167    0.125883\n",
       "x169    0.220478\n",
       "x170    0.246552\n",
       "x171    0.283763\n",
       "x174    0.244202\n",
       "x175    0.157301\n",
       "x176    0.181861\n",
       "x177    0.206810\n",
       "x178    0.219750\n",
       "x179    0.235757\n",
       "x180    0.117430\n",
       "x181    0.258218\n",
       "x182    0.041873\n",
       "x183    0.156219\n",
       "x184    0.134723\n",
       "x185    0.230478\n",
       "x186    0.235807\n",
       "x187    0.264343\n",
       "x188    0.254895\n",
       "x189    0.222461\n",
       "x190    0.195120\n",
       "x191    0.174162\n",
       "x192    0.279946\n",
       "x193    0.270021\n",
       "x194    0.259715\n",
       "x195    0.250644\n",
       "x196    0.243355\n",
       "x197    0.228901\n",
       "x198    0.229719\n",
       "x199    0.215049\n",
       "x200    0.201507\n",
       "x201    0.192210\n",
       "x202    0.230261\n",
       "x203    0.219887\n",
       "x204    0.219168\n",
       "x205    0.217830\n",
       "x206    0.216104\n",
       "x207    0.192987\n",
       "x208    0.208319\n",
       "x209    0.210792\n",
       "x210    0.206037\n",
       "x211    0.204652\n",
       "x212    0.188958\n",
       "x213    0.186160\n",
       "x214    0.193622\n",
       "x215    0.198030\n",
       "x216    0.199304\n",
       "x217    0.150661\n",
       "x218    0.157569\n",
       "x219    0.173363\n",
       "x220    0.181758\n",
       "x221    0.184920\n",
       "x222    0.051789\n",
       "x223    0.051107\n",
       "x230    0.058980\n",
       "x231    0.020452\n",
       "x232    0.000826\n",
       "x233    0.125133\n",
       "x234    0.118240\n",
       "x238    0.282654\n",
       "x240    0.264705\n",
       "x241    0.232338\n",
       "x243    0.127608\n",
       "x252    0.078679\n",
       "x254    0.009714\n",
       "x258    0.242880\n",
       "x263    0.135366\n",
       "x264    0.115238\n",
       "x265    0.074562\n",
       "x266    0.035744\n",
       "x267    0.060068\n",
       "x268    0.282970\n",
       "x269    0.062478\n",
       "x270    0.066774\n",
       "x271    0.080832\n",
       "x272    0.066761\n",
       "x273    0.232696\n",
       "x274    0.133154\n",
       "x275    0.020511\n",
       "x279    0.241646\n",
       "x280    0.066670\n",
       "x281    0.271768\n",
       "x282    0.297334\n",
       "x283    0.287514\n",
       "x284    0.272775\n",
       "x285    0.060160\n",
       "x286    0.202476\n",
       "x288    0.018680\n",
       "x289    0.006531\n",
       "x290    0.009339\n",
       "x291    0.042159\n",
       "x292    0.234469\n",
       "x294    0.112354\n",
       "x296    0.110278\n",
       "x298    0.044329\n",
       "x299    0.044871\n",
       "x300    0.040356\n",
       "x301    0.224484\n",
       "x303    0.035370\n",
       "Name: y, dtype: float64"
      ]
     },
     "execution_count": 29,
     "metadata": {},
     "output_type": "execute_result"
    }
   ],
   "source": [
    "cor_target = abs(data.corr()[\"y\"])\n",
    "#Selecting highly correlated features\n",
    "relevant_features = cor_target[cor_target<0.3]\n",
    "relevant_features"
   ]
  },
  {
   "cell_type": "code",
   "execution_count": 30,
   "metadata": {},
   "outputs": [],
   "source": [
    " lst_key=[]"
   ]
  },
  {
   "cell_type": "code",
   "execution_count": 31,
   "metadata": {},
   "outputs": [],
   "source": [
    "for i,j in relevant_features.items():\n",
    "    lst_key.append(i)\n",
    "#print(lst_key.count())\n"
   ]
  },
  {
   "cell_type": "code",
   "execution_count": 32,
   "metadata": {},
   "outputs": [
    {
     "data": {
      "text/plain": [
       "229"
      ]
     },
     "execution_count": 32,
     "metadata": {},
     "output_type": "execute_result"
    }
   ],
   "source": [
    "len(lst_key)"
   ]
  },
  {
   "cell_type": "code",
   "execution_count": 33,
   "metadata": {},
   "outputs": [],
   "source": [
    "#lstd"
   ]
  },
  {
   "cell_type": "code",
   "execution_count": 34,
   "metadata": {},
   "outputs": [],
   "source": [
    "#lstd.remove('y')\n",
    "m_cols=[]"
   ]
  },
  {
   "cell_type": "code",
   "execution_count": 35,
   "metadata": {
    "_kg_hide-output": true
   },
   "outputs": [],
   "source": [
    "lstd1= ['x017','x047','x015','x043','x251','x248','x018','x019','x028','x020','x004','x027','x030','x224','x260','x261','x229','x262','x247','x250','x246','x245','x014','x023','x002','x239','x025','x225','x237','x244','x046','x228','x226','x249','x227','x022','x236','x005','x235','x041','x057','x058','x287','x148','x253','x059','x065','x064','x162','x297','x293','x063','x168','x173','x056','x278','x036','x172','x277','x276','x099']"
   ]
  },
  {
   "cell_type": "code",
   "execution_count": 36,
   "metadata": {},
   "outputs": [
    {
     "data": {
      "text/plain": [
       "61"
      ]
     },
     "execution_count": 36,
     "metadata": {},
     "output_type": "execute_result"
    }
   ],
   "source": [
    "len(lstd1)"
   ]
  },
  {
   "cell_type": "code",
   "execution_count": 37,
   "metadata": {},
   "outputs": [],
   "source": [
    "drop_cols=['x062','x066','x067','x068','x069','x070','x071','x072','x073','x074','x075','x076','x077','x078','x079','x080','x081','x082','x083','x084','x085','x086','x087','x088','x089','x090','x091','x092','x093','x094','x095','x096','x097','x100','x101','x102','x103','x104','x105','x106','x107','x108','x109','x110','x111','x112','x113','x114','x115','x116','x117','x118','x119','x120','x121','x122','x123','x124','x125','x126','x127','x128','x129','x130','x131','x132','x133','x134','x135','x136','x137','x138','x139','x140','x141','x142','x143','x144','x145','x146','x147','x149','x150','x151','x152','x153','x154','x156','x157','x158','x159','x160','x161','x163','x164','x165','x166','x167','x169','x170','x171','x174','x175','x176','x177','x178','x179','x180','x181','x182','x183','x184','x185','x186','x187','x188','x189','x190','x191','x192','x193','x194','x195','x196','x197','x198','x199','x200','x201','x202','x203','x204','x205','x206','x207','x208','x209','x210','x211','x212','x213','x214','x215','x216','x217','x218','x219','x220','x221','x222','x223','x230','x231','x232','x233','x234','x238','x240','x241','x243','x252','x254','x258','x263','x264','x265','x266','x267','x268','x269','x270','x271','x272','x273','x274','x275','x279','x280','x281','x282','x283','x284','x285','x286','x288','x289','x290','x291','x292','x294','x296','x298','x299','x300','x301','x303','x001','x003','x006','x007','x008','x009','x010','x011','x012','x013','x016','x021','x024','x026','x029','x031','x032','x033','x034','x035','x037','x038','x039','x040','x042','x044','x045','x048','x049','x050','x051','x052','x053','x054','x055','x060','x061']"
   ]
  },
  {
   "cell_type": "code",
   "execution_count": 38,
   "metadata": {},
   "outputs": [
    {
     "data": {
      "text/plain": [
       "233"
      ]
     },
     "execution_count": 38,
     "metadata": {},
     "output_type": "execute_result"
    }
   ],
   "source": [
    "len(drop_cols)"
   ]
  },
  {
   "cell_type": "code",
   "execution_count": 39,
   "metadata": {},
   "outputs": [
    {
     "data": {
      "text/plain": [
       "(100000, 296)"
      ]
     },
     "execution_count": 39,
     "metadata": {},
     "output_type": "execute_result"
    }
   ],
   "source": [
    "data.shape"
   ]
  },
  {
   "cell_type": "code",
   "execution_count": 40,
   "metadata": {},
   "outputs": [],
   "source": [
    "prep_data=data.copy()"
   ]
  },
  {
   "cell_type": "code",
   "execution_count": 41,
   "metadata": {},
   "outputs": [],
   "source": [
    "prep_data.drop(columns=drop_cols,axis=1,inplace=True)"
   ]
  },
  {
   "cell_type": "code",
   "execution_count": 42,
   "metadata": {},
   "outputs": [
    {
     "data": {
      "text/plain": [
       "(100000, 63)"
      ]
     },
     "execution_count": 42,
     "metadata": {},
     "output_type": "execute_result"
    }
   ],
   "source": [
    "prep_data.shape"
   ]
  },
  {
   "cell_type": "code",
   "execution_count": 43,
   "metadata": {},
   "outputs": [],
   "source": [
    "#prep_data.columns"
   ]
  },
  {
   "cell_type": "code",
   "execution_count": 44,
   "metadata": {},
   "outputs": [],
   "source": [
    "import warnings\n",
    "warnings.filterwarnings(\"ignore\")\n",
    "import seaborn as sns\n",
    "coL=list(prep_data.columns)\n"
   ]
  },
  {
   "cell_type": "code",
   "execution_count": 45,
   "metadata": {},
   "outputs": [
    {
     "data": {
      "text/plain": [
       "list"
      ]
     },
     "execution_count": 45,
     "metadata": {},
     "output_type": "execute_result"
    }
   ],
   "source": [
    "type(coL)"
   ]
  },
  {
   "cell_type": "code",
   "execution_count": 46,
   "metadata": {},
   "outputs": [],
   "source": [
    "%matplotlib inline\n",
    "train_test_b4_split_data=prep_data.copy\n"
   ]
  },
  {
   "cell_type": "code",
   "execution_count": 47,
   "metadata": {},
   "outputs": [
    {
     "name": "stdout",
     "output_type": "stream",
     "text": [
      "Returned the Cols with Null values\n"
     ]
    }
   ],
   "source": [
    "null_cols=fp.data_nullcols(prep_data,1)"
   ]
  },
  {
   "cell_type": "code",
   "execution_count": 48,
   "metadata": {},
   "outputs": [],
   "source": [
    "for i in null_cols:\n",
    "    prep_data[i].fillna(prep_data[i].mean(),inplace=True)"
   ]
  },
  {
   "cell_type": "code",
   "execution_count": 49,
   "metadata": {},
   "outputs": [],
   "source": [
    "train_final = prep_data[prep_data.source==\"train\"]\n",
    "test_final = prep_data[prep_data.source==\"test\"]"
   ]
  },
  {
   "cell_type": "code",
   "execution_count": 50,
   "metadata": {},
   "outputs": [
    {
     "data": {
      "text/plain": [
       "(80000, 62)"
      ]
     },
     "execution_count": 50,
     "metadata": {},
     "output_type": "execute_result"
    }
   ],
   "source": [
    "train_final = train_final.drop(columns='source',axis=1)\n",
    "test_final = test_final.drop(columns='source',axis=1)\n",
    "train_final.shape\n"
   ]
  },
  {
   "cell_type": "code",
   "execution_count": 51,
   "metadata": {},
   "outputs": [
    {
     "data": {
      "text/plain": [
       "Index(['x002', 'x004', 'x005', 'x014', 'x015', 'x017', 'x018', 'x019', 'x020',\n",
       "       'x022', 'x023', 'x025', 'x027', 'x028', 'x030', 'x036', 'x041', 'x043',\n",
       "       'x046', 'x047', 'x056', 'x057', 'x058', 'x059', 'x063', 'x064', 'x065',\n",
       "       'x099', 'x148', 'x162', 'x168', 'x172', 'x173', 'x224', 'x225', 'x226',\n",
       "       'x227', 'x228', 'x229', 'x235', 'x236', 'x237', 'x239', 'x244', 'x245',\n",
       "       'x246', 'x247', 'x248', 'x249', 'x250', 'x251', 'x253', 'x260', 'x261',\n",
       "       'x262', 'x276', 'x277', 'x278', 'x287', 'x293', 'x297', 'y'],\n",
       "      dtype='object')"
      ]
     },
     "execution_count": 51,
     "metadata": {},
     "output_type": "execute_result"
    }
   ],
   "source": [
    "train_final.columns"
   ]
  },
  {
   "cell_type": "code",
   "execution_count": 52,
   "metadata": {},
   "outputs": [],
   "source": [
    "from sklearn.model_selection import KFold\n",
    "from sklearn.model_selection import cross_val_score\n",
    "from sklearn.linear_model import LinearRegression\n",
    "from sklearn.linear_model import Lasso\n",
    "from sklearn.linear_model import Ridge\n",
    "from sklearn.linear_model import ElasticNet\n",
    "from sklearn.tree import DecisionTreeRegressor\n",
    "from sklearn.neighbors import KNeighborsRegressor\n",
    "from sklearn.ensemble import AdaBoostRegressor\n",
    "from sklearn.ensemble import GradientBoostingRegressor\n",
    "from sklearn.ensemble import RandomForestRegressor\n",
    "from xgboost import XGBRegressor\n",
    "\n",
    "from sklearn.metrics import mean_squared_error\n",
    "from sklearn.metrics import mean_absolute_error\n",
    "from sklearn.model_selection import train_test_split\n",
    "\n"
   ]
  },
  {
   "cell_type": "code",
   "execution_count": 53,
   "metadata": {},
   "outputs": [
    {
     "name": "stdout",
     "output_type": "stream",
     "text": [
      "(80000, 61)\n",
      "(80000,)\n"
     ]
    }
   ],
   "source": [
    "X = train_final.drop(\"y\", axis=1)\n",
    "Y = train_final[\"y\"]\n",
    "print(X.shape)\n",
    "print(Y.shape)"
   ]
  },
  {
   "cell_type": "code",
   "execution_count": 54,
   "metadata": {},
   "outputs": [
    {
     "name": "stdout",
     "output_type": "stream",
     "text": [
      "(56000, 61)\n",
      "(24000, 61)\n",
      "(56000,)\n",
      "(24000,)\n"
     ]
    }
   ],
   "source": [
    "seed      = 42\n",
    "test_size = 0.30\n",
    "\n",
    "X_train, X_test, Y_train, Y_test = train_test_split(X, Y, test_size = test_size)\n",
    "\n",
    "print(X_train.shape)\n",
    "print(X_test.shape)\n",
    "print(Y_train.shape)\n",
    "print(Y_test.shape)"
   ]
  },
  {
   "cell_type": "code",
   "execution_count": 55,
   "metadata": {},
   "outputs": [
    {
     "name": "stdout",
     "output_type": "stream",
     "text": [
      "Linear: -39.524, 0.127\n",
      "Lasso: -40.832, 0.097\n",
      "Ridge: -39.524, 0.127\n",
      "ElasticNet: -45.324, 0.12\n",
      "DecisionTree: -35.126, 0.122\n",
      "KNN: -52.419, 0.405\n",
      "RandomForest: -25.996, 0.165\n",
      "AdaBoost: -43.085, 1.098\n",
      "GradientBoost: -27.705, 0.186\n",
      "[10:41:53] WARNING: /workspace/src/objective/regression_obj.cu:152: reg:linear is now deprecated in favor of reg:squarederror.\n",
      "[10:42:02] WARNING: /workspace/src/objective/regression_obj.cu:152: reg:linear is now deprecated in favor of reg:squarederror.\n",
      "[10:42:11] WARNING: /workspace/src/objective/regression_obj.cu:152: reg:linear is now deprecated in favor of reg:squarederror.\n",
      "[10:42:20] WARNING: /workspace/src/objective/regression_obj.cu:152: reg:linear is now deprecated in favor of reg:squarederror.\n",
      "[10:42:29] WARNING: /workspace/src/objective/regression_obj.cu:152: reg:linear is now deprecated in favor of reg:squarederror.\n",
      "XGBoost: -27.734, 0.205\n"
     ]
    }
   ],
   "source": [
    "# user variables to tune\n",
    "folds   = 5\n",
    "metric  = \"neg_mean_absolute_error\"\n",
    "\n",
    "# hold different regression models in a single dictionary\n",
    "models = {}\n",
    "models[\"Linear\"]        = LinearRegression()\n",
    "models[\"Lasso\"]         = Lasso()\n",
    "models[\"Ridge\"]         = Ridge()\n",
    "models[\"ElasticNet\"]    = ElasticNet()\n",
    "models[\"DecisionTree\"]  = DecisionTreeRegressor()\n",
    "models[\"KNN\"]           = KNeighborsRegressor()\n",
    "models[\"RandomForest\"]  = RandomForestRegressor()\n",
    "models[\"AdaBoost\"]      = AdaBoostRegressor()\n",
    "models[\"GradientBoost\"] = GradientBoostingRegressor()\n",
    "models[\"XGBoost\"] = XGBRegressor()\n",
    "\n",
    "# 10-fold cross validation for each model\n",
    "model_results = []\n",
    "model_names   = []\n",
    "for model_name in models:\n",
    "\tmodel   = models[model_name]\n",
    "\tk_fold  = KFold(n_splits=folds, random_state=seed)\n",
    "\tresults = cross_val_score(model, X_train, Y_train, cv=k_fold, scoring=metric)\n",
    "\t\n",
    "\tmodel_results.append(results)\n",
    "\tmodel_names.append(model_name)\n",
    "\tprint(\"{}: {}, {}\".format(model_name, round(results.mean(), 3), round(results.std(), 3)))\n",
    "\n"
   ]
  },
  {
   "cell_type": "code",
   "execution_count": 56,
   "metadata": {
    "collapsed": true
   },
   "outputs": [
    {
     "data": {
      "image/png": "[encoded data removed]",
      "text/plain": [
       "<Figure size 2520x1080 with 1 Axes>"
      ]
     },
     "metadata": {
      "needs_background": "light"
     },
     "output_type": "display_data"
    }
   ],
   "source": [
    "# box-whisker plot to compare regression models\n",
    "import matplotlib.pyplot as plt \n",
    "figure = plt.figure(figsize = (35,15))\n",
    "\n",
    "figure.suptitle('Regression models comparison')\n",
    "axis = figure.add_subplot(111)\n",
    "plt.boxplot(model_results)\n",
    "axis.set_xticklabels(model_names, rotation = 45, ha=\"right\")\n",
    "axis.set_ylabel(\"Mean Absolute Error (MAE)\")\n",
    "plt.margins(0.05, 0.1)"
   ]
  },
  {
   "cell_type": "code",
   "execution_count": 57,
   "metadata": {},
   "outputs": [
    {
     "name": "stdout",
     "output_type": "stream",
     "text": [
      "MAPE - Mean Absolute Percentage Error (TRAIN DATA):  1.7863955360596369\n"
     ]
    }
   ],
   "source": [
    "model = RandomForestRegressor()\n",
    "model.fit(X_train,Y_train)\n",
    "\n",
    "##print(\"Intercept : \", model.intercept_)\n",
    "##print(\"Slope : \", model.coef_)\n",
    "\n",
    "#Predicting TEST & TRAIN DATA\n",
    "train_predict = model.predict(X_train)\n",
    "test_predict = model.predict(X_test)\n",
    "\n",
    "error_percent = np.mean(np.abs((Y_train - train_predict) / Y_train)) * 100\n",
    "print(\"MAPE - Mean Absolute Percentage Error (TRAIN DATA): \",error_percent )\n",
    "Y_train, train_predict = np.array(Y_train), np.array(train_predict)"
   ]
  },
  {
   "cell_type": "code",
   "execution_count": 58,
   "metadata": {},
   "outputs": [
    {
     "name": "stdout",
     "output_type": "stream",
     "text": [
      "MAPE - Mean Absolute Percentage Error (TEST DATA):  1.86429594791049\n"
     ]
    }
   ],
   "source": [
    "model = RandomForestRegressor()\n",
    "model.fit(X_test,Y_test)\n",
    "\n",
    "##print(\"Intercept : \", model.intercept_)\n",
    "##print(\"Slope : \", model.coef_)\n",
    "\n",
    "#Predicting TEST & TRAIN DATA\n",
    "#train_predict = model.predict(X_train)\n",
    "test_predict = model.predict(X_test)\n",
    "\n",
    "error_percent = np.mean(np.abs((Y_test - test_predict) / Y_test)) * 100\n",
    "print(\"MAPE - Mean Absolute Percentage Error (TEST DATA): \",error_percent )\n",
    "Y_test, test_predict = np.array(Y_test), np.array(test_predict)"
   ]
  },
  {
   "cell_type": "code",
   "execution_count": 59,
   "metadata": {},
   "outputs": [],
   "source": [
    "dtrain_predictions = model.predict(X_train)"
   ]
  },
  {
   "cell_type": "code",
   "execution_count": 60,
   "metadata": {},
   "outputs": [
    {
     "name": "stdout",
     "output_type": "stream",
     "text": [
      "\n",
      "Model Report\n",
      "RMSE : 36.96\n"
     ]
    }
   ],
   "source": [
    "#Print model report:\n",
    "print(\"\\nModel Report\")\n",
    "print(\"RMSE : %.4g\" % np.sqrt(mean_squared_error(Y_train, dtrain_predictions)))\n",
    "    \n",
    "#Predict on testing data:\n",
    "#test_final[\"res_linear\"] =  model.predict(X_train)"
   ]
  }
 ],
 "metadata": {
  "kernelspec": {
   "display_name": "Python 3",
   "language": "python",
   "name": "python3"
  },
  "language_info": {
   "codemirror_mode": {
    "name": "ipython",
    "version": 3
   },
   "file_extension": ".py",
   "mimetype": "text/x-python",
   "name": "python",
   "nbconvert_exporter": "python",
   "pygments_lexer": "ipython3",
   "version": "3.6.6"
  }
 },
 "nbformat": 4,
 "nbformat_minor": 1
}
