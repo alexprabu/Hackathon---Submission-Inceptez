{
  "nbformat": 4,
  "nbformat_minor": 0,
  "metadata": {
    "kernelspec": {
      "display_name": "Python 3",
      "language": "python",
      "name": "python3"
    },
    "language_info": {
      "codemirror_mode": {
        "name": "ipython",
        "version": 3
      },
      "file_extension": ".py",
      "mimetype": "text/x-python",
      "name": "python",
      "nbconvert_exporter": "python",
      "pygments_lexer": "ipython3",
      "version": "3.7.3"
    },
    "colab": {
      "name": "Sentiment_Analysis.ipynb",
      "provenance": [],
      "toc_visible": true
    }
  },
  "cells": [
    {
      "cell_type": "markdown",
      "metadata": {
        "id": "B9Hhg1JVnDoY",
        "colab_type": "text"
      },
      "source": [
        "# Sentiment Analysis"
      ]
    },
    {
      "cell_type": "markdown",
      "metadata": {
        "id": "gVmGrEUmnDoa",
        "colab_type": "text"
      },
      "source": [
        "## Loading Data & Descriptive Analysis"
      ]
    },
    {
      "cell_type": "code",
      "metadata": {
        "id": "Qj19ma1VnDob",
        "colab_type": "code",
        "colab": {}
      },
      "source": [
        "import numpy as np\n",
        "import pandas as pd"
      ],
      "execution_count": 0,
      "outputs": []
    },
    {
      "cell_type": "code",
      "metadata": {
        "id": "w0XdXguNnDoe",
        "colab_type": "code",
        "colab": {}
      },
      "source": [
        "train_df = pd.read_csv(\"/content/review_train.csv\")"
      ],
      "execution_count": 0,
      "outputs": []
    },
    {
      "cell_type": "code",
      "metadata": {
        "id": "Sk4yU-4JnDoi",
        "colab_type": "code",
        "colab": {}
      },
      "source": [
        "test_df = pd.read_csv(\"/content/review_test.csv\")"
      ],
      "execution_count": 0,
      "outputs": []
    },
    {
      "cell_type": "code",
      "metadata": {
        "id": "2avF23hlnDol",
        "colab_type": "code",
        "outputId": "887ac896-6f65-47d7-ed2d-edf1f3a68d85",
        "colab": {
          "base_uri": "https://localhost:8080/",
          "height": 0
        }
      },
      "source": [
        "train_df.columns.difference(test_df.columns)"
      ],
      "execution_count": 7,
      "outputs": [
        {
          "output_type": "execute_result",
          "data": {
            "text/plain": [
              "Index([], dtype='object')"
            ]
          },
          "metadata": {
            "tags": []
          },
          "execution_count": 7
        }
      ]
    },
    {
      "cell_type": "code",
      "metadata": {
        "id": "MP6FB3N5nDoo",
        "colab_type": "code",
        "outputId": "4850f6d2-f554-454a-cbd3-d39a6c98b100",
        "colab": {
          "base_uri": "https://localhost:8080/",
          "height": 0
        }
      },
      "source": [
        "train_df.shape"
      ],
      "execution_count": 8,
      "outputs": [
        {
          "output_type": "execute_result",
          "data": {
            "text/plain": [
              "(14825, 3)"
            ]
          },
          "metadata": {
            "tags": []
          },
          "execution_count": 8
        }
      ]
    },
    {
      "cell_type": "code",
      "metadata": {
        "id": "ndv_l6zRnDor",
        "colab_type": "code",
        "outputId": "7c19ee81-7434-4ceb-d958-f517320bfb13",
        "colab": {
          "base_uri": "https://localhost:8080/",
          "height": 0
        }
      },
      "source": [
        "test_df.shape"
      ],
      "execution_count": 9,
      "outputs": [
        {
          "output_type": "execute_result",
          "data": {
            "text/plain": [
              "(3707, 3)"
            ]
          },
          "metadata": {
            "tags": []
          },
          "execution_count": 9
        }
      ]
    },
    {
      "cell_type": "code",
      "metadata": {
        "id": "19n6ALO2nDou",
        "colab_type": "code",
        "colab": {}
      },
      "source": [
        "train_df[\"Source\"] = \"train\"\n",
        "test_df[\"Source\"] = \"test\""
      ],
      "execution_count": 0,
      "outputs": []
    },
    {
      "cell_type": "code",
      "metadata": {
        "id": "5T-cfxAnnDow",
        "colab_type": "code",
        "outputId": "59b8738e-e2bf-4218-d2d6-dc467bb1db50",
        "colab": {
          "base_uri": "https://localhost:8080/",
          "height": 0
        }
      },
      "source": [
        "train_df.columns"
      ],
      "execution_count": 11,
      "outputs": [
        {
          "output_type": "execute_result",
          "data": {
            "text/plain": [
              "Index(['Text', 'Score', 'Sentiment', 'Source'], dtype='object')"
            ]
          },
          "metadata": {
            "tags": []
          },
          "execution_count": 11
        }
      ]
    },
    {
      "cell_type": "code",
      "metadata": {
        "id": "p-wVvjVpnDoz",
        "colab_type": "code",
        "outputId": "17d1af75-d04e-4d17-d8ca-510594bd9431",
        "colab": {
          "base_uri": "https://localhost:8080/",
          "height": 0
        }
      },
      "source": [
        "test_df.columns"
      ],
      "execution_count": 12,
      "outputs": [
        {
          "output_type": "execute_result",
          "data": {
            "text/plain": [
              "Index(['Text', 'Score', 'Sentiment', 'Source'], dtype='object')"
            ]
          },
          "metadata": {
            "tags": []
          },
          "execution_count": 12
        }
      ]
    },
    {
      "cell_type": "code",
      "metadata": {
        "id": "4viQvG6nnDo1",
        "colab_type": "code",
        "colab": {}
      },
      "source": [
        "df = pd.concat([train_df, test_df])"
      ],
      "execution_count": 0,
      "outputs": []
    },
    {
      "cell_type": "code",
      "metadata": {
        "id": "qMrPC0bjnDo5",
        "colab_type": "code",
        "outputId": "fd5ffc49-aa79-4e70-f3ac-21ccb779aca6",
        "colab": {
          "base_uri": "https://localhost:8080/",
          "height": 0
        }
      },
      "source": [
        "df.shape"
      ],
      "execution_count": 14,
      "outputs": [
        {
          "output_type": "execute_result",
          "data": {
            "text/plain": [
              "(18532, 4)"
            ]
          },
          "metadata": {
            "tags": []
          },
          "execution_count": 14
        }
      ]
    },
    {
      "cell_type": "code",
      "metadata": {
        "id": "cPjutyIanDo8",
        "colab_type": "code",
        "outputId": "05b59da4-f4cf-44c0-e5b7-414106c8a3b6",
        "colab": {
          "base_uri": "https://localhost:8080/",
          "height": 0
        }
      },
      "source": [
        "df.head()"
      ],
      "execution_count": 15,
      "outputs": [
        {
          "output_type": "execute_result",
          "data": {
            "text/html": [
              "<div>\n",
              "<style scoped>\n",
              "    .dataframe tbody tr th:only-of-type {\n",
              "        vertical-align: middle;\n",
              "    }\n",
              "\n",
              "    .dataframe tbody tr th {\n",
              "        vertical-align: top;\n",
              "    }\n",
              "\n",
              "    .dataframe thead th {\n",
              "        text-align: right;\n",
              "    }\n",
              "</style>\n",
              "<table border=\"1\" class=\"dataframe\">\n",
              "  <thead>\n",
              "    <tr style=\"text-align: right;\">\n",
              "      <th></th>\n",
              "      <th>Text</th>\n",
              "      <th>Score</th>\n",
              "      <th>Sentiment</th>\n",
              "      <th>Source</th>\n",
              "    </tr>\n",
              "  </thead>\n",
              "  <tbody>\n",
              "    <tr>\n",
              "      <th>0</th>\n",
              "      <td>I got a free sample of these once, and now--we...</td>\n",
              "      <td>5</td>\n",
              "      <td>1</td>\n",
              "      <td>train</td>\n",
              "    </tr>\n",
              "    <tr>\n",
              "      <th>1</th>\n",
              "      <td>I used to get this Tea when I lived in Washing...</td>\n",
              "      <td>4</td>\n",
              "      <td>1</td>\n",
              "      <td>train</td>\n",
              "    </tr>\n",
              "    <tr>\n",
              "      <th>2</th>\n",
              "      <td>This is my all time favorite 'grab and go' sna...</td>\n",
              "      <td>5</td>\n",
              "      <td>1</td>\n",
              "      <td>train</td>\n",
              "    </tr>\n",
              "    <tr>\n",
              "      <th>3</th>\n",
              "      <td>This flavor is very good and unexpected.  The ...</td>\n",
              "      <td>4</td>\n",
              "      <td>1</td>\n",
              "      <td>train</td>\n",
              "    </tr>\n",
              "    <tr>\n",
              "      <th>4</th>\n",
              "      <td>thrilled to have this assortment as i got the ...</td>\n",
              "      <td>4</td>\n",
              "      <td>1</td>\n",
              "      <td>train</td>\n",
              "    </tr>\n",
              "  </tbody>\n",
              "</table>\n",
              "</div>"
            ],
            "text/plain": [
              "                                                Text  Score  Sentiment Source\n",
              "0  I got a free sample of these once, and now--we...      5          1  train\n",
              "1  I used to get this Tea when I lived in Washing...      4          1  train\n",
              "2  This is my all time favorite 'grab and go' sna...      5          1  train\n",
              "3  This flavor is very good and unexpected.  The ...      4          1  train\n",
              "4  thrilled to have this assortment as i got the ...      4          1  train"
            ]
          },
          "metadata": {
            "tags": []
          },
          "execution_count": 15
        }
      ]
    },
    {
      "cell_type": "code",
      "metadata": {
        "id": "COM3m_UrnDo-",
        "colab_type": "code",
        "outputId": "7d1495ed-c527-4932-b2ac-b762c0bdb218",
        "colab": {
          "base_uri": "https://localhost:8080/",
          "height": 0
        }
      },
      "source": [
        "df.tail()"
      ],
      "execution_count": 16,
      "outputs": [
        {
          "output_type": "execute_result",
          "data": {
            "text/html": [
              "<div>\n",
              "<style scoped>\n",
              "    .dataframe tbody tr th:only-of-type {\n",
              "        vertical-align: middle;\n",
              "    }\n",
              "\n",
              "    .dataframe tbody tr th {\n",
              "        vertical-align: top;\n",
              "    }\n",
              "\n",
              "    .dataframe thead th {\n",
              "        text-align: right;\n",
              "    }\n",
              "</style>\n",
              "<table border=\"1\" class=\"dataframe\">\n",
              "  <thead>\n",
              "    <tr style=\"text-align: right;\">\n",
              "      <th></th>\n",
              "      <th>Text</th>\n",
              "      <th>Score</th>\n",
              "      <th>Sentiment</th>\n",
              "      <th>Source</th>\n",
              "    </tr>\n",
              "  </thead>\n",
              "  <tbody>\n",
              "    <tr>\n",
              "      <th>3702</th>\n",
              "      <td>I always have Powerade in the house - for ever...</td>\n",
              "      <td>5</td>\n",
              "      <td>1</td>\n",
              "      <td>test</td>\n",
              "    </tr>\n",
              "    <tr>\n",
              "      <th>3703</th>\n",
              "      <td>I tried this coffee on a half dozen quests thi...</td>\n",
              "      <td>5</td>\n",
              "      <td>1</td>\n",
              "      <td>test</td>\n",
              "    </tr>\n",
              "    <tr>\n",
              "      <th>3704</th>\n",
              "      <td>The Neccos were exactly what I expected and fr...</td>\n",
              "      <td>5</td>\n",
              "      <td>1</td>\n",
              "      <td>test</td>\n",
              "    </tr>\n",
              "    <tr>\n",
              "      <th>3705</th>\n",
              "      <td>I thought I was doing the right thing by getti...</td>\n",
              "      <td>1</td>\n",
              "      <td>0</td>\n",
              "      <td>test</td>\n",
              "    </tr>\n",
              "    <tr>\n",
              "      <th>3706</th>\n",
              "      <td>Cugino's chicken noodle soup is pretty tasty. ...</td>\n",
              "      <td>5</td>\n",
              "      <td>1</td>\n",
              "      <td>test</td>\n",
              "    </tr>\n",
              "  </tbody>\n",
              "</table>\n",
              "</div>"
            ],
            "text/plain": [
              "                                                   Text  ...  Source\n",
              "3702  I always have Powerade in the house - for ever...  ...    test\n",
              "3703  I tried this coffee on a half dozen quests thi...  ...    test\n",
              "3704  The Neccos were exactly what I expected and fr...  ...    test\n",
              "3705  I thought I was doing the right thing by getti...  ...    test\n",
              "3706  Cugino's chicken noodle soup is pretty tasty. ...  ...    test\n",
              "\n",
              "[5 rows x 4 columns]"
            ]
          },
          "metadata": {
            "tags": []
          },
          "execution_count": 16
        }
      ]
    },
    {
      "cell_type": "code",
      "metadata": {
        "id": "06udhbKznDpA",
        "colab_type": "code",
        "outputId": "8e27c15e-5ff7-4da3-c208-f0eeaeaed1ea",
        "colab": {
          "base_uri": "https://localhost:8080/",
          "height": 0
        }
      },
      "source": [
        "df.describe()"
      ],
      "execution_count": 17,
      "outputs": [
        {
          "output_type": "execute_result",
          "data": {
            "text/html": [
              "<div>\n",
              "<style scoped>\n",
              "    .dataframe tbody tr th:only-of-type {\n",
              "        vertical-align: middle;\n",
              "    }\n",
              "\n",
              "    .dataframe tbody tr th {\n",
              "        vertical-align: top;\n",
              "    }\n",
              "\n",
              "    .dataframe thead th {\n",
              "        text-align: right;\n",
              "    }\n",
              "</style>\n",
              "<table border=\"1\" class=\"dataframe\">\n",
              "  <thead>\n",
              "    <tr style=\"text-align: right;\">\n",
              "      <th></th>\n",
              "      <th>Score</th>\n",
              "      <th>Sentiment</th>\n",
              "    </tr>\n",
              "  </thead>\n",
              "  <tbody>\n",
              "    <tr>\n",
              "      <th>count</th>\n",
              "      <td>18532.000000</td>\n",
              "      <td>18532.000000</td>\n",
              "    </tr>\n",
              "    <tr>\n",
              "      <th>mean</th>\n",
              "      <td>4.277304</td>\n",
              "      <td>0.843784</td>\n",
              "    </tr>\n",
              "    <tr>\n",
              "      <th>std</th>\n",
              "      <td>1.319827</td>\n",
              "      <td>0.363070</td>\n",
              "    </tr>\n",
              "    <tr>\n",
              "      <th>min</th>\n",
              "      <td>1.000000</td>\n",
              "      <td>0.000000</td>\n",
              "    </tr>\n",
              "    <tr>\n",
              "      <th>25%</th>\n",
              "      <td>4.000000</td>\n",
              "      <td>1.000000</td>\n",
              "    </tr>\n",
              "    <tr>\n",
              "      <th>50%</th>\n",
              "      <td>5.000000</td>\n",
              "      <td>1.000000</td>\n",
              "    </tr>\n",
              "    <tr>\n",
              "      <th>75%</th>\n",
              "      <td>5.000000</td>\n",
              "      <td>1.000000</td>\n",
              "    </tr>\n",
              "    <tr>\n",
              "      <th>max</th>\n",
              "      <td>5.000000</td>\n",
              "      <td>1.000000</td>\n",
              "    </tr>\n",
              "  </tbody>\n",
              "</table>\n",
              "</div>"
            ],
            "text/plain": [
              "              Score     Sentiment\n",
              "count  18532.000000  18532.000000\n",
              "mean       4.277304      0.843784\n",
              "std        1.319827      0.363070\n",
              "min        1.000000      0.000000\n",
              "25%        4.000000      1.000000\n",
              "50%        5.000000      1.000000\n",
              "75%        5.000000      1.000000\n",
              "max        5.000000      1.000000"
            ]
          },
          "metadata": {
            "tags": []
          },
          "execution_count": 17
        }
      ]
    },
    {
      "cell_type": "markdown",
      "metadata": {
        "id": "oo2e54z6nDpC",
        "colab_type": "text"
      },
      "source": [
        "## EDA"
      ]
    },
    {
      "cell_type": "code",
      "metadata": {
        "id": "AVDvevkQnDpD",
        "colab_type": "code",
        "outputId": "87e009e8-7c7b-413e-85f0-84ebfeb23324",
        "colab": {
          "base_uri": "https://localhost:8080/",
          "height": 101
        }
      },
      "source": [
        "df.Score.value_counts()"
      ],
      "execution_count": 18,
      "outputs": [
        {
          "output_type": "execute_result",
          "data": {
            "text/plain": [
              "5    12795\n",
              "4     2842\n",
              "1     1866\n",
              "2     1029\n",
              "Name: Score, dtype: int64"
            ]
          },
          "metadata": {
            "tags": []
          },
          "execution_count": 18
        }
      ]
    },
    {
      "cell_type": "code",
      "metadata": {
        "id": "CvhfBFoUnDpG",
        "colab_type": "code",
        "outputId": "c0fb433e-054d-4d22-d0f2-e9ce6ca4df24",
        "colab": {
          "base_uri": "https://localhost:8080/",
          "height": 67
        }
      },
      "source": [
        "df.Sentiment.value_counts()"
      ],
      "execution_count": 19,
      "outputs": [
        {
          "output_type": "execute_result",
          "data": {
            "text/plain": [
              "1    15637\n",
              "0     2895\n",
              "Name: Sentiment, dtype: int64"
            ]
          },
          "metadata": {
            "tags": []
          },
          "execution_count": 19
        }
      ]
    },
    {
      "cell_type": "code",
      "metadata": {
        "id": "qllxzUdgnDpJ",
        "colab_type": "code",
        "outputId": "28b91898-3bd0-43d3-95eb-5ac1107215c3",
        "colab": {
          "base_uri": "https://localhost:8080/",
          "height": 106
        }
      },
      "source": [
        "df.describe().T"
      ],
      "execution_count": 20,
      "outputs": [
        {
          "output_type": "execute_result",
          "data": {
            "text/html": [
              "<div>\n",
              "<style scoped>\n",
              "    .dataframe tbody tr th:only-of-type {\n",
              "        vertical-align: middle;\n",
              "    }\n",
              "\n",
              "    .dataframe tbody tr th {\n",
              "        vertical-align: top;\n",
              "    }\n",
              "\n",
              "    .dataframe thead th {\n",
              "        text-align: right;\n",
              "    }\n",
              "</style>\n",
              "<table border=\"1\" class=\"dataframe\">\n",
              "  <thead>\n",
              "    <tr style=\"text-align: right;\">\n",
              "      <th></th>\n",
              "      <th>count</th>\n",
              "      <th>mean</th>\n",
              "      <th>std</th>\n",
              "      <th>min</th>\n",
              "      <th>25%</th>\n",
              "      <th>50%</th>\n",
              "      <th>75%</th>\n",
              "      <th>max</th>\n",
              "    </tr>\n",
              "  </thead>\n",
              "  <tbody>\n",
              "    <tr>\n",
              "      <th>Score</th>\n",
              "      <td>18532.0</td>\n",
              "      <td>4.277304</td>\n",
              "      <td>1.319827</td>\n",
              "      <td>1.0</td>\n",
              "      <td>4.0</td>\n",
              "      <td>5.0</td>\n",
              "      <td>5.0</td>\n",
              "      <td>5.0</td>\n",
              "    </tr>\n",
              "    <tr>\n",
              "      <th>Sentiment</th>\n",
              "      <td>18532.0</td>\n",
              "      <td>0.843784</td>\n",
              "      <td>0.363070</td>\n",
              "      <td>0.0</td>\n",
              "      <td>1.0</td>\n",
              "      <td>1.0</td>\n",
              "      <td>1.0</td>\n",
              "      <td>1.0</td>\n",
              "    </tr>\n",
              "  </tbody>\n",
              "</table>\n",
              "</div>"
            ],
            "text/plain": [
              "             count      mean       std  min  25%  50%  75%  max\n",
              "Score      18532.0  4.277304  1.319827  1.0  4.0  5.0  5.0  5.0\n",
              "Sentiment  18532.0  0.843784  0.363070  0.0  1.0  1.0  1.0  1.0"
            ]
          },
          "metadata": {
            "tags": []
          },
          "execution_count": 20
        }
      ]
    },
    {
      "cell_type": "code",
      "metadata": {
        "id": "XA-3vKOUnDpL",
        "colab_type": "code",
        "outputId": "bf859434-2468-49f2-8579-254213a7bb40",
        "colab": {
          "base_uri": "https://localhost:8080/",
          "height": 168
        }
      },
      "source": [
        "df.info()"
      ],
      "execution_count": 21,
      "outputs": [
        {
          "output_type": "stream",
          "text": [
            "<class 'pandas.core.frame.DataFrame'>\n",
            "Int64Index: 18532 entries, 0 to 3706\n",
            "Data columns (total 4 columns):\n",
            "Text         18532 non-null object\n",
            "Score        18532 non-null int64\n",
            "Sentiment    18532 non-null int64\n",
            "Source       18532 non-null object\n",
            "dtypes: int64(2), object(2)\n",
            "memory usage: 723.9+ KB\n"
          ],
          "name": "stdout"
        }
      ]
    },
    {
      "cell_type": "code",
      "metadata": {
        "id": "li2Ff90enDpN",
        "colab_type": "code",
        "colab": {}
      },
      "source": [
        "import matplotlib.pyplot as plt\n",
        "%matplotlib inline"
      ],
      "execution_count": 0,
      "outputs": []
    },
    {
      "cell_type": "code",
      "metadata": {
        "id": "9uYtLSjCnDpS",
        "colab_type": "code",
        "colab": {}
      },
      "source": [
        "import seaborn as sns"
      ],
      "execution_count": 0,
      "outputs": []
    },
    {
      "cell_type": "code",
      "metadata": {
        "id": "EGjhfHO9nDpb",
        "colab_type": "code",
        "outputId": "23e8379a-8a80-4926-a8e5-ed4e83f47255",
        "colab": {
          "base_uri": "https://localhost:8080/",
          "height": 312
        }
      },
      "source": [
        "sns.countplot(x='Score', data=df)\n",
        "plt.title(\"Scores Distribution\")\n",
        "# sns.barplot(x = df.Score.value_counts().index, y = df.Score.value_counts())"
      ],
      "execution_count": 24,
      "outputs": [
        {
          "output_type": "execute_result",
          "data": {
            "text/plain": [
              "Text(0.5, 1.0, 'Scores Distribution')"
            ]
          },
          "metadata": {
            "tags": []
          },
          "execution_count": 24
        },
        {
          "output_type": "display_data",
          "data": {
            "image/png": "[encoded data removed]",
            "text/plain": [
              "<Figure size 432x288 with 1 Axes>"
            ]
          },
          "metadata": {
            "tags": []
          }
        }
      ]
    },
    {
      "cell_type": "code",
      "metadata": {
        "id": "IxJPtGYhnDpg",
        "colab_type": "code",
        "outputId": "4686a805-01e4-4588-84d9-6537caeaf694",
        "colab": {
          "base_uri": "https://localhost:8080/",
          "height": 268
        }
      },
      "source": [
        "labels = 'Positive', 'Negative'\n",
        "sizes = df.Sentiment.value_counts()\n",
        "colors = ['yellowgreen', 'lightcoral']\n",
        "explode = (0, 0.1)  # explode 1st slice\n",
        "\n",
        "# Plot\n",
        "plt.pie(sizes, explode=explode, labels=labels, colors=colors,\n",
        "autopct='%1.1f%%', shadow=True, startangle=0)\n",
        "plt.title(\"Positive vs Negative Reviews\")\n",
        "\n",
        "plt.axis('equal')\n",
        "plt.show()"
      ],
      "execution_count": 25,
      "outputs": [
        {
          "output_type": "display_data",
          "data": {
            "image/png": "[encoded data removed]",
            "text/plain": [
              "<Figure size 432x288 with 1 Axes>"
            ]
          },
          "metadata": {
            "tags": []
          }
        }
      ]
    },
    {
      "cell_type": "code",
      "metadata": {
        "id": "QX2O3rmqnDpj",
        "colab_type": "code",
        "outputId": "35531f99-9799-4e0b-f5c6-958667bab744",
        "colab": {
          "base_uri": "https://localhost:8080/",
          "height": 67
        }
      },
      "source": [
        "corr = df.corr()\n",
        "print(corr)"
      ],
      "execution_count": 26,
      "outputs": [
        {
          "output_type": "stream",
          "text": [
            "              Score  Sentiment\n",
            "Score      1.000000   0.952582\n",
            "Sentiment  0.952582   1.000000\n"
          ],
          "name": "stdout"
        }
      ]
    },
    {
      "cell_type": "code",
      "metadata": {
        "id": "LrBVVpP_nDpl",
        "colab_type": "code",
        "outputId": "2b31434e-4aba-4801-98fb-8ffc1f3c78bf",
        "colab": {
          "base_uri": "https://localhost:8080/",
          "height": 214
        }
      },
      "source": [
        "plt.figure(figsize=(5,3))\n",
        "ax = sns.heatmap(corr,vmin=-1,vmax=1,center=0,annot=True)"
      ],
      "execution_count": 27,
      "outputs": [
        {
          "output_type": "display_data",
          "data": {
            "image/png": "[encoded data removed]",
            "text/plain": [
              "<Figure size 360x216 with 2 Axes>"
            ]
          },
          "metadata": {
            "tags": []
          }
        }
      ]
    },
    {
      "cell_type": "markdown",
      "metadata": {
        "id": "e8oz-TgEnDpn",
        "colab_type": "text"
      },
      "source": [
        "## Data Preprocessing"
      ]
    },
    {
      "cell_type": "code",
      "metadata": {
        "id": "s5ZrY1asnDpn",
        "colab_type": "code",
        "outputId": "8e35189a-b7f0-4599-939c-889ab85202a0",
        "colab": {
          "base_uri": "https://localhost:8080/",
          "height": 101
        }
      },
      "source": [
        "df.isna().sum()"
      ],
      "execution_count": 28,
      "outputs": [
        {
          "output_type": "execute_result",
          "data": {
            "text/plain": [
              "Text         0\n",
              "Score        0\n",
              "Sentiment    0\n",
              "Source       0\n",
              "dtype: int64"
            ]
          },
          "metadata": {
            "tags": []
          },
          "execution_count": 28
        }
      ]
    },
    {
      "cell_type": "code",
      "metadata": {
        "id": "e8A4betknDpp",
        "colab_type": "code",
        "outputId": "380fee5b-9bbc-4643-82d9-d33598979a59",
        "colab": {
          "base_uri": "https://localhost:8080/",
          "height": 34
        }
      },
      "source": [
        "df.duplicated().sum()"
      ],
      "execution_count": 29,
      "outputs": [
        {
          "output_type": "execute_result",
          "data": {
            "text/plain": [
              "433"
            ]
          },
          "metadata": {
            "tags": []
          },
          "execution_count": 29
        }
      ]
    },
    {
      "cell_type": "code",
      "metadata": {
        "id": "pZSKDdQMnDps",
        "colab_type": "code",
        "colab": {}
      },
      "source": [
        "# reviews = np.array(df['Text'])\n",
        "# sentiments = np.array(df['Sentiment'])"
      ],
      "execution_count": 0,
      "outputs": []
    },
    {
      "cell_type": "code",
      "metadata": {
        "id": "viSB5hgD9w_C",
        "colab_type": "code",
        "colab": {
          "base_uri": "https://localhost:8080/",
          "height": 34
        },
        "outputId": "a0cfb41e-128c-48c7-96e0-587c4440d161"
      },
      "source": [
        "df.columns"
      ],
      "execution_count": 31,
      "outputs": [
        {
          "output_type": "execute_result",
          "data": {
            "text/plain": [
              "Index(['Text', 'Score', 'Sentiment', 'Source'], dtype='object')"
            ]
          },
          "metadata": {
            "tags": []
          },
          "execution_count": 31
        }
      ]
    },
    {
      "cell_type": "code",
      "metadata": {
        "id": "PJElcUnI91jq",
        "colab_type": "code",
        "colab": {
          "base_uri": "https://localhost:8080/",
          "height": 34
        },
        "outputId": "c539b054-d5c0-4eb3-e46d-554f1c19d97a"
      },
      "source": [
        "# Removing 'Score' column as it is not needed\n",
        "\n",
        "df.drop(columns=['Score'], inplace=True)\n",
        "df.columns"
      ],
      "execution_count": 32,
      "outputs": [
        {
          "output_type": "execute_result",
          "data": {
            "text/plain": [
              "Index(['Text', 'Sentiment', 'Source'], dtype='object')"
            ]
          },
          "metadata": {
            "tags": []
          },
          "execution_count": 32
        }
      ]
    },
    {
      "cell_type": "code",
      "metadata": {
        "colab_type": "code",
        "id": "tvnr_wwx9v17",
        "colab": {}
      },
      "source": [
        "train_final = df[df.Source==\"train\"]\n",
        "test_final = df[df.Source==\"test\"]"
      ],
      "execution_count": 0,
      "outputs": []
    },
    {
      "cell_type": "code",
      "metadata": {
        "id": "OsHzxgbC-bSa",
        "colab_type": "code",
        "colab": {}
      },
      "source": [
        "train_reviews = train_final['Text'].values\n",
        "train_sentiments = train_final['Sentiment'].values\n",
        "\n",
        "test_reviews = test_final['Text'].values\n",
        "test_sentiments = test_final['Sentiment'].values"
      ],
      "execution_count": 0,
      "outputs": []
    },
    {
      "cell_type": "markdown",
      "metadata": {
        "id": "ndDuIPqinDpy",
        "colab_type": "text"
      },
      "source": [
        "### Text Preprocessor (No need to do Stop word removal for Sentiment Analysis)"
      ]
    },
    {
      "cell_type": "code",
      "metadata": {
        "id": "Ms4pYLI8nDpz",
        "colab_type": "code",
        "outputId": "7ce1488d-1c4c-4b6e-fbea-9744246f14da",
        "colab": {
          "base_uri": "https://localhost:8080/",
          "height": 373
        }
      },
      "source": [
        "!pip install textsearch\n",
        "!pip install contractions\n",
        "!pip install tqdm"
      ],
      "execution_count": 35,
      "outputs": [
        {
          "output_type": "stream",
          "text": [
            "Collecting textsearch\n",
            "  Downloading https://files.pythonhosted.org/packages/42/a8/03407021f9555043de5492a2bd7a35c56cc03c2510092b5ec018cae1bbf1/textsearch-0.0.17-py2.py3-none-any.whl\n",
            "Collecting pyahocorasick (from textsearch)\n",
            "\u001b[?25l  Downloading https://files.pythonhosted.org/packages/f4/9f/f0d8e8850e12829eea2e778f1c90e3c53a9a799b7f412082a5d21cd19ae1/pyahocorasick-1.4.0.tar.gz (312kB)\n",
            "\u001b[K     |████████████████████████████████| 317kB 6.9MB/s \n",
            "\u001b[?25hCollecting Unidecode (from textsearch)\n",
            "\u001b[?25l  Downloading https://files.pythonhosted.org/packages/d0/42/d9edfed04228bacea2d824904cae367ee9efd05e6cce7ceaaedd0b0ad964/Unidecode-1.1.1-py2.py3-none-any.whl (238kB)\n",
            "\u001b[K     |████████████████████████████████| 245kB 46.1MB/s \n",
            "\u001b[?25hBuilding wheels for collected packages: pyahocorasick\n",
            "  Building wheel for pyahocorasick (setup.py) ... \u001b[?25l\u001b[?25hdone\n",
            "  Created wheel for pyahocorasick: filename=pyahocorasick-1.4.0-cp36-cp36m-linux_x86_64.whl size=81699 sha256=70521fc9469b0ce15400d15e4139c095dfd214315890f7047eb96f44ac12d026\n",
            "  Stored in directory: /root/.cache/pip/wheels/0a/90/61/87a55f5b459792fbb2b7ba6b31721b06ff5cf6bde541b40994\n",
            "Successfully built pyahocorasick\n",
            "Installing collected packages: pyahocorasick, Unidecode, textsearch\n",
            "Successfully installed Unidecode-1.1.1 pyahocorasick-1.4.0 textsearch-0.0.17\n",
            "Collecting contractions\n",
            "  Downloading https://files.pythonhosted.org/packages/f5/2a/ba0a3812e2a1de2cc4ee0ded0bdb750a7cef1631c13c78a4fc4ab042adec/contractions-0.0.21-py2.py3-none-any.whl\n",
            "Installing collected packages: contractions\n",
            "Successfully installed contractions-0.0.21\n",
            "Requirement already satisfied: tqdm in /usr/local/lib/python3.6/dist-packages (4.28.1)\n"
          ],
          "name": "stdout"
        }
      ]
    },
    {
      "cell_type": "code",
      "metadata": {
        "id": "5SCSjdPbnDp1",
        "colab_type": "code",
        "outputId": "1fb5cab4-130f-417c-8d0e-efc5aa90616e",
        "colab": {
          "base_uri": "https://localhost:8080/",
          "height": 101
        }
      },
      "source": [
        "import nltk\n",
        "nltk.download('punkt')\n",
        "nltk.download('stopwords')"
      ],
      "execution_count": 36,
      "outputs": [
        {
          "output_type": "stream",
          "text": [
            "[nltk_data] Downloading package punkt to /root/nltk_data...\n",
            "[nltk_data]   Unzipping tokenizers/punkt.zip.\n",
            "[nltk_data] Downloading package stopwords to /root/nltk_data...\n",
            "[nltk_data]   Unzipping corpora/stopwords.zip.\n"
          ],
          "name": "stdout"
        },
        {
          "output_type": "execute_result",
          "data": {
            "text/plain": [
              "True"
            ]
          },
          "metadata": {
            "tags": []
          },
          "execution_count": 36
        }
      ]
    },
    {
      "cell_type": "code",
      "metadata": {
        "id": "bEehHhCPnDp3",
        "colab_type": "code",
        "outputId": "298077ec-bd0d-43e2-c068-f798b1973453",
        "colab": {
          "base_uri": "https://localhost:8080/",
          "height": 306
        }
      },
      "source": [
        "!pip install spacy\n",
        "import spacy"
      ],
      "execution_count": 37,
      "outputs": [
        {
          "output_type": "stream",
          "text": [
            "Requirement already satisfied: spacy in /usr/local/lib/python3.6/dist-packages (2.1.8)\n",
            "Requirement already satisfied: cymem<2.1.0,>=2.0.2 in /usr/local/lib/python3.6/dist-packages (from spacy) (2.0.2)\n",
            "Requirement already satisfied: wasabi<1.1.0,>=0.2.0 in /usr/local/lib/python3.6/dist-packages (from spacy) (0.2.2)\n",
            "Requirement already satisfied: murmurhash<1.1.0,>=0.28.0 in /usr/local/lib/python3.6/dist-packages (from spacy) (1.0.2)\n",
            "Requirement already satisfied: numpy>=1.15.0 in /usr/local/lib/python3.6/dist-packages (from spacy) (1.16.5)\n",
            "Requirement already satisfied: thinc<7.1.0,>=7.0.8 in /usr/local/lib/python3.6/dist-packages (from spacy) (7.0.8)\n",
            "Requirement already satisfied: blis<0.3.0,>=0.2.2 in /usr/local/lib/python3.6/dist-packages (from spacy) (0.2.4)\n",
            "Requirement already satisfied: requests<3.0.0,>=2.13.0 in /usr/local/lib/python3.6/dist-packages (from spacy) (2.21.0)\n",
            "Requirement already satisfied: srsly<1.1.0,>=0.0.6 in /usr/local/lib/python3.6/dist-packages (from spacy) (0.1.0)\n",
            "Requirement already satisfied: preshed<2.1.0,>=2.0.1 in /usr/local/lib/python3.6/dist-packages (from spacy) (2.0.1)\n",
            "Requirement already satisfied: plac<1.0.0,>=0.9.6 in /usr/local/lib/python3.6/dist-packages (from spacy) (0.9.6)\n",
            "Requirement already satisfied: tqdm<5.0.0,>=4.10.0 in /usr/local/lib/python3.6/dist-packages (from thinc<7.1.0,>=7.0.8->spacy) (4.28.1)\n",
            "Requirement already satisfied: urllib3<1.25,>=1.21.1 in /usr/local/lib/python3.6/dist-packages (from requests<3.0.0,>=2.13.0->spacy) (1.24.3)\n",
            "Requirement already satisfied: idna<2.9,>=2.5 in /usr/local/lib/python3.6/dist-packages (from requests<3.0.0,>=2.13.0->spacy) (2.8)\n",
            "Requirement already satisfied: chardet<3.1.0,>=3.0.2 in /usr/local/lib/python3.6/dist-packages (from requests<3.0.0,>=2.13.0->spacy) (3.0.4)\n",
            "Requirement already satisfied: certifi>=2017.4.17 in /usr/local/lib/python3.6/dist-packages (from requests<3.0.0,>=2.13.0->spacy) (2019.6.16)\n"
          ],
          "name": "stdout"
        }
      ]
    },
    {
      "cell_type": "code",
      "metadata": {
        "id": "Sl-ZunG-nDp5",
        "colab_type": "code",
        "outputId": "2b949e31-5436-4a2b-9858-d7960ab01c74",
        "colab": {
          "base_uri": "https://localhost:8080/",
          "height": 168
        }
      },
      "source": [
        "!python -m spacy validate"
      ],
      "execution_count": 38,
      "outputs": [
        {
          "output_type": "stream",
          "text": [
            "\r⠙ Loading compatibility table...\r\u001b[2K\u001b[38;5;2m✔ Loaded compatibility table\u001b[0m\n",
            "\u001b[1m\n",
            "====================== Installed models (spaCy v2.1.8) ======================\u001b[0m\n",
            "\u001b[38;5;4mℹ spaCy installation: /usr/local/lib/python3.6/dist-packages/spacy\u001b[0m\n",
            "\n",
            "TYPE      NAME             MODEL            VERSION                            \n",
            "package   en-core-web-sm   en_core_web_sm   \u001b[38;5;2m2.1.0\u001b[0m   \u001b[38;5;2m✔\u001b[0m\n",
            "link      en               en_core_web_sm   \u001b[38;5;2m2.1.0\u001b[0m   \u001b[38;5;2m✔\u001b[0m\n",
            "\n"
          ],
          "name": "stdout"
        }
      ]
    },
    {
      "cell_type": "code",
      "metadata": {
        "id": "31gmt8jMnDp6",
        "colab_type": "code",
        "outputId": "8e463d46-8927-4261-b76a-755f3875dd9a",
        "colab": {
          "base_uri": "https://localhost:8080/",
          "height": 154
        }
      },
      "source": [
        "!python -m spacy download en"
      ],
      "execution_count": 39,
      "outputs": [
        {
          "output_type": "stream",
          "text": [
            "Requirement already satisfied: en_core_web_sm==2.1.0 from https://github.com/explosion/spacy-models/releases/download/en_core_web_sm-2.1.0/en_core_web_sm-2.1.0.tar.gz#egg=en_core_web_sm==2.1.0 in /usr/local/lib/python3.6/dist-packages (2.1.0)\n",
            "\u001b[38;5;2m✔ Download and installation successful\u001b[0m\n",
            "You can now load the model via spacy.load('en_core_web_sm')\n",
            "\u001b[38;5;2m✔ Linking successful\u001b[0m\n",
            "/usr/local/lib/python3.6/dist-packages/en_core_web_sm -->\n",
            "/usr/local/lib/python3.6/dist-packages/spacy/data/en\n",
            "You can now load the model via spacy.load('en')\n"
          ],
          "name": "stdout"
        }
      ]
    },
    {
      "cell_type": "code",
      "metadata": {
        "id": "1QNIJoifnDp-",
        "colab_type": "code",
        "colab": {}
      },
      "source": [
        "import re\n",
        "from bs4 import BeautifulSoup\n",
        "import unicodedata\n",
        "import contractions\n",
        "import spacy\n",
        "\n",
        "nlp = spacy.load('en')\n",
        "ps = nltk.porter.PorterStemmer()\n",
        "\n",
        "\n",
        "def strip_html_tags(text):\n",
        "    soup = BeautifulSoup(text, \"html.parser\")\n",
        "    [s.extract() for s in soup(['iframe', 'script'])]\n",
        "    stripped_text = soup.get_text()\n",
        "    stripped_text = re.sub(r'[\\r|\\n|\\r\\n]+', '\\n', stripped_text)\n",
        "    return stripped_text\n",
        "\n",
        "\n",
        "def remove_accented_chars(text):\n",
        "    text = unicodedata.normalize('NFKD', text).encode('ascii', 'ignore').decode('utf-8', 'ignore')\n",
        "    return text\n",
        "\n",
        "\n",
        "def expand_contractions(text):\n",
        "    return contractions.fix(text)\n",
        "\n",
        "\n",
        "def spacy_lemmatize_text(text):\n",
        "    text = nlp(text)\n",
        "    text = ' '.join([word.lemma_ if word.lemma_ != '-PRON-' else word.text for word in text])\n",
        "    return text\n",
        "\n",
        "\n",
        "def simple_stemming(text, stemmer=ps):\n",
        "    text = ' '.join([stemmer.stem(word) for word in text.split()])\n",
        "    return text\n",
        "\n",
        "\n",
        "def remove_special_characters(text, remove_digits=False):\n",
        "    pattern = r'[^a-zA-Z0-9\\s]' if not remove_digits else r'[^a-zA-Z\\s]'\n",
        "    text = re.sub(pattern, '', text)\n",
        "    return text\n",
        "\n",
        "\n",
        "def remove_stopwords(text, is_lower_case=False, stopwords=None):\n",
        "    if not stopwords:\n",
        "        stopwords = nltk.corpus.stopwords.words('english')\n",
        "    tokens = nltk.word_tokenize(text)\n",
        "    tokens = [token.strip() for token in tokens]\n",
        "    \n",
        "    if is_lower_case:\n",
        "        filtered_tokens = [token for token in tokens if token not in stopwords]\n",
        "    else:\n",
        "        filtered_tokens = [token for token in tokens if token.lower() not in stopwords]\n",
        "    \n",
        "    filtered_text = ' '.join(filtered_tokens)    \n",
        "    return filtered_text"
      ],
      "execution_count": 0,
      "outputs": []
    },
    {
      "cell_type": "code",
      "metadata": {
        "id": "yMEcnfltnDqH",
        "colab_type": "code",
        "colab": {}
      },
      "source": [
        "import tqdm\n",
        "\n",
        "def text_pre_processor(text, html_strip=True, accented_char_removal=True, contraction_expansion=True,\n",
        "                       text_lower_case=True, text_stemming=False, text_lemmatization=True, \n",
        "                       special_char_removal=True, remove_digits=True, stopword_removal=False, \n",
        "                       stopword_list=None):\n",
        "    \n",
        "    # strip HTML\n",
        "    if html_strip:\n",
        "        text = strip_html_tags(text)\n",
        "    \n",
        "    # remove extra newlines (often might be present in really noisy text)\n",
        "    text = text.translate(text.maketrans(\"\\n\\t\\r\", \"   \"))\n",
        "    \n",
        "    # remove accented characters\n",
        "    if accented_char_removal:\n",
        "        text = remove_accented_chars(text)\n",
        "    \n",
        "    # expand contractions    \n",
        "    if contraction_expansion:\n",
        "        text = expand_contractions(text)\n",
        "        \n",
        "#     # expand contractions without Contraction library (Custom Code)\n",
        "#     if contraction_expansion:\n",
        "#         text = expandContractions(text)\n",
        "    \n",
        "    # lemmatize text\n",
        "    if text_lemmatization:\n",
        "        text = spacy_lemmatize_text(text) \n",
        "        \n",
        "    # remove special characters and\\or digits    \n",
        "    if special_char_removal:\n",
        "        # insert spaces between special characters to isolate them    \n",
        "        special_char_pattern = re.compile(r'([{.(-)!}])')\n",
        "        text = special_char_pattern.sub(\" \\\\1 \", text)\n",
        "        text = remove_special_characters(text, remove_digits=remove_digits)  \n",
        "        \n",
        "    # stem text\n",
        "    if text_stemming and not text_lemmatization:\n",
        "        text = simple_stemming(text)\n",
        "        \n",
        "    # lowercase the text    \n",
        "    if text_lower_case:\n",
        "        text = text.lower()\n",
        "        \n",
        "        \n",
        "    # remove stopwords\n",
        "    if stopword_removal:\n",
        "        text = remove_stopwords(text, is_lower_case=text_lower_case, \n",
        "                                stopwords=stopword_list)\n",
        "        \n",
        "    # remove extra whitespace\n",
        "    text = re.sub(' +', ' ', text)\n",
        "    text = text.strip()\n",
        "    \n",
        "    return text"
      ],
      "execution_count": 0,
      "outputs": []
    },
    {
      "cell_type": "code",
      "metadata": {
        "id": "QtOgcZMCnDqO",
        "colab_type": "code",
        "colab": {}
      },
      "source": [
        "def pre_process(reviews):\n",
        "  norm_reviews = []\n",
        "  for review in tqdm.tqdm(reviews):\n",
        "    review = text_pre_processor(review)  #Stop word removal is already set to False, as we are doing Sentiment Analysis\n",
        "    norm_reviews.append(review)\n",
        "  return norm_reviews"
      ],
      "execution_count": 0,
      "outputs": []
    },
    {
      "cell_type": "markdown",
      "metadata": {
        "id": "e3y8_nvt_xYB",
        "colab_type": "text"
      },
      "source": [
        "### Creating Normalised Data using Text Preprocessor\n"
      ]
    },
    {
      "cell_type": "code",
      "metadata": {
        "id": "L1iz8DynADMi",
        "colab_type": "code",
        "colab": {
          "base_uri": "https://localhost:8080/",
          "height": 84
        },
        "outputId": "7e41629a-2be8-42ef-94cb-69020882d27c"
      },
      "source": [
        "%%time\n",
        "\n",
        "norm_train_reviews = pre_process(train_reviews)\n",
        "norm_test_reviews = pre_process(test_reviews)"
      ],
      "execution_count": 43,
      "outputs": [
        {
          "output_type": "stream",
          "text": [
            "100%|██████████| 14825/14825 [05:25<00:00, 47.06it/s]\n",
            "100%|██████████| 3707/3707 [01:22<00:00, 45.03it/s]"
          ],
          "name": "stderr"
        },
        {
          "output_type": "stream",
          "text": [
            "CPU times: user 6min 44s, sys: 4.09 s, total: 6min 48s\n",
            "Wall time: 6min 47s\n"
          ],
          "name": "stdout"
        },
        {
          "output_type": "stream",
          "text": [
            "\n"
          ],
          "name": "stderr"
        }
      ]
    },
    {
      "cell_type": "code",
      "metadata": {
        "id": "6P3XUFRBC_O1",
        "colab_type": "code",
        "colab": {
          "base_uri": "https://localhost:8080/",
          "height": 101
        },
        "outputId": "1fe4a8b7-89d2-4c7d-ebbb-42e0e8a0cb9a"
      },
      "source": [
        "[review[0:100] for review in train_reviews[0:5]]"
      ],
      "execution_count": 44,
      "outputs": [
        {
          "output_type": "execute_result",
          "data": {
            "text/plain": [
              "[\"I got a free sample of these once, and now--we're on the subscribe and save program.  Not much of a \",\n",
              " 'I used to get this Tea when I lived in Washington State and missed it.  A niece told me it was avail',\n",
              " \"This is my all time favorite 'grab and go' snack bar. It doesn't leave you with a sugar rush/drop, t\",\n",
              " 'This flavor is very good and unexpected.  The flavor of the cheese and garlic go well together and t',\n",
              " 'thrilled to have this assortment as i got the chance to choose another decaf coffee- have already sa']"
            ]
          },
          "metadata": {
            "tags": []
          },
          "execution_count": 44
        }
      ]
    },
    {
      "cell_type": "code",
      "metadata": {
        "id": "z1hdHPBCADRr",
        "colab_type": "code",
        "colab": {
          "base_uri": "https://localhost:8080/",
          "height": 101
        },
        "outputId": "f7e36f8b-b7c2-4540-be07-942daa7b9551"
      },
      "source": [
        "[review[0:100] for review in norm_train_reviews[0:5]]"
      ],
      "execution_count": 45,
      "outputs": [
        {
          "output_type": "execute_result",
          "data": {
            "text/plain": [
              "['i get a free sample of these once and now we be on the subscribe and save program not much of a chip',\n",
              " 'i use to get this tea when i live in washington state and miss it a niece tell me it be available at',\n",
              " 'this be my all time favorite grab and go snack bar it do not leave you with a sugar rush drop taste ',\n",
              " 'this flavor be very good and unexpected the flavor of the cheese and garlic go well together and the',\n",
              " 'thrill to have this assortment as i get the chance to choose another decaf coffee have already sampl']"
            ]
          },
          "metadata": {
            "tags": []
          },
          "execution_count": 45
        }
      ]
    },
    {
      "cell_type": "markdown",
      "metadata": {
        "id": "vbvm9OB7s96a",
        "colab_type": "text"
      },
      "source": [
        "## Feature Engineering"
      ]
    },
    {
      "cell_type": "code",
      "metadata": {
        "id": "guXw4ZBg32oQ",
        "colab_type": "code",
        "colab": {
          "base_uri": "https://localhost:8080/",
          "height": 50
        },
        "outputId": "b2441d1c-b783-4ce2-949d-11a0f6cbfb5c"
      },
      "source": [
        "%%time\n",
        "\n",
        "from sklearn.feature_extraction.text import CountVectorizer, TfidfVectorizer\n",
        "\n",
        "# build BOW features on train reviews\n",
        "cv = CountVectorizer(binary=False, min_df=5, max_df=1.0, ngram_range=(1,2))\n",
        "\n",
        "cv_train_features = cv.fit_transform(norm_train_reviews)\n",
        "\n",
        "\n",
        "# build TFIDF features on train reviews\n",
        "tv = TfidfVectorizer(use_idf=True, min_df=5, max_df=1.0, ngram_range=(1,2),\n",
        "                     sublinear_tf=True)\n",
        "tv_train_features = tv.fit_transform(norm_train_reviews)"
      ],
      "execution_count": 46,
      "outputs": [
        {
          "output_type": "stream",
          "text": [
            "CPU times: user 6.3 s, sys: 279 ms, total: 6.58 s\n",
            "Wall time: 6.62 s\n"
          ],
          "name": "stdout"
        }
      ]
    },
    {
      "cell_type": "code",
      "metadata": {
        "id": "KxPYP6Jv32ly",
        "colab_type": "code",
        "colab": {
          "base_uri": "https://localhost:8080/",
          "height": 50
        },
        "outputId": "12922f26-3650-4bc3-a113-0eca99e04ccc"
      },
      "source": [
        "%%time\n",
        "\n",
        "# transform test reviews into features\n",
        "cv_test_features = cv.transform(norm_test_reviews)\n",
        "tv_test_features = tv.transform(norm_test_reviews)"
      ],
      "execution_count": 47,
      "outputs": [
        {
          "output_type": "stream",
          "text": [
            "CPU times: user 953 ms, sys: 4.96 ms, total: 958 ms\n",
            "Wall time: 960 ms\n"
          ],
          "name": "stdout"
        }
      ]
    },
    {
      "cell_type": "code",
      "metadata": {
        "id": "JLENA2w1tEmX",
        "colab_type": "code",
        "colab": {
          "base_uri": "https://localhost:8080/",
          "height": 50
        },
        "outputId": "07bfe9f0-e1ba-4643-8971-5d3c674d7235"
      },
      "source": [
        "print('BOW model:> Train features shape:', cv_train_features.shape, ' Test features shape:', cv_test_features.shape)\n",
        "print('TFIDF model:> Train features shape:', tv_train_features.shape, ' Test features shape:', tv_test_features.shape)"
      ],
      "execution_count": 48,
      "outputs": [
        {
          "output_type": "stream",
          "text": [
            "BOW model:> Train features shape: (14825, 35004)  Test features shape: (3707, 35004)\n",
            "TFIDF model:> Train features shape: (14825, 35004)  Test features shape: (3707, 35004)\n"
          ],
          "name": "stdout"
        }
      ]
    },
    {
      "cell_type": "markdown",
      "metadata": {
        "id": "pnioqc7aGkQt",
        "colab_type": "text"
      },
      "source": [
        "## Modeling, Prediction and Performance Evaluation"
      ]
    },
    {
      "cell_type": "markdown",
      "metadata": {
        "id": "olIUpYD4Gucp",
        "colab_type": "text"
      },
      "source": [
        "### Using Logistic Regression"
      ]
    },
    {
      "cell_type": "code",
      "metadata": {
        "id": "rfor6KN6Gxyo",
        "colab_type": "code",
        "colab": {
          "base_uri": "https://localhost:8080/",
          "height": 50
        },
        "outputId": "f68641c8-2457-4ae9-b12c-826bf93d0d35"
      },
      "source": [
        "%%time\n",
        "\n",
        "# Logistic Regression model on BOW features\n",
        "from sklearn.linear_model import LogisticRegression\n",
        "\n",
        "# instantiate model\n",
        "lr = LogisticRegression(penalty='l2', max_iter=500, C=1, solver='lbfgs', random_state=42)\n",
        "\n",
        "# train model\n",
        "lr.fit(cv_train_features, train_sentiments)\n",
        "\n",
        "# predict on test data\n",
        "lr_bow_predictions = lr.predict(cv_test_features)"
      ],
      "execution_count": 49,
      "outputs": [
        {
          "output_type": "stream",
          "text": [
            "CPU times: user 5.89 s, sys: 4.11 s, total: 10 s\n",
            "Wall time: 5.1 s\n"
          ],
          "name": "stdout"
        }
      ]
    },
    {
      "cell_type": "code",
      "metadata": {
        "id": "ITKJF4rqGxvl",
        "colab_type": "code",
        "colab": {
          "base_uri": "https://localhost:8080/",
          "height": 258
        },
        "outputId": "4b6d0556-a0eb-4f5c-f118-ccac0aed2d07"
      },
      "source": [
        "from sklearn.metrics import confusion_matrix, classification_report\n",
        "\n",
        "labels = ['negative', 'positive']\n",
        "print(classification_report(test_sentiments, lr_bow_predictions))\n",
        "pd.DataFrame(confusion_matrix(test_sentiments, lr_bow_predictions), index=labels, columns=labels)"
      ],
      "execution_count": 50,
      "outputs": [
        {
          "output_type": "stream",
          "text": [
            "              precision    recall  f1-score   support\n",
            "\n",
            "           0       0.83      0.69      0.76       592\n",
            "           1       0.94      0.97      0.96      3115\n",
            "\n",
            "    accuracy                           0.93      3707\n",
            "   macro avg       0.89      0.83      0.86      3707\n",
            "weighted avg       0.93      0.93      0.93      3707\n",
            "\n"
          ],
          "name": "stdout"
        },
        {
          "output_type": "execute_result",
          "data": {
            "text/html": [
              "<div>\n",
              "<style scoped>\n",
              "    .dataframe tbody tr th:only-of-type {\n",
              "        vertical-align: middle;\n",
              "    }\n",
              "\n",
              "    .dataframe tbody tr th {\n",
              "        vertical-align: top;\n",
              "    }\n",
              "\n",
              "    .dataframe thead th {\n",
              "        text-align: right;\n",
              "    }\n",
              "</style>\n",
              "<table border=\"1\" class=\"dataframe\">\n",
              "  <thead>\n",
              "    <tr style=\"text-align: right;\">\n",
              "      <th></th>\n",
              "      <th>negative</th>\n",
              "      <th>positive</th>\n",
              "    </tr>\n",
              "  </thead>\n",
              "  <tbody>\n",
              "    <tr>\n",
              "      <th>negative</th>\n",
              "      <td>410</td>\n",
              "      <td>182</td>\n",
              "    </tr>\n",
              "    <tr>\n",
              "      <th>positive</th>\n",
              "      <td>83</td>\n",
              "      <td>3032</td>\n",
              "    </tr>\n",
              "  </tbody>\n",
              "</table>\n",
              "</div>"
            ],
            "text/plain": [
              "          negative  positive\n",
              "negative       410       182\n",
              "positive        83      3032"
            ]
          },
          "metadata": {
            "tags": []
          },
          "execution_count": 50
        }
      ]
    },
    {
      "cell_type": "markdown",
      "metadata": {
        "id": "1K9VnHpTmhY9",
        "colab_type": "text"
      },
      "source": [
        "### Using Random Forest"
      ]
    },
    {
      "cell_type": "code",
      "metadata": {
        "id": "FzGnA5pDmvEK",
        "colab_type": "code",
        "colab": {
          "base_uri": "https://localhost:8080/",
          "height": 0
        },
        "outputId": "92a78bb8-f720-4752-953d-16023c8a739e"
      },
      "source": [
        "%%time\n",
        "\n",
        "# Random Forest model on BOW features\n",
        "from sklearn.ensemble import RandomForestClassifier\n",
        "\n",
        "# instantiate model\n",
        "rf = RandomForestClassifier(n_estimators=100, n_jobs=-1, random_state=42)\n",
        "\n",
        "# train model\n",
        "rf.fit(cv_train_features, train_sentiments)\n",
        "\n",
        "# predict on test data\n",
        "rf_bow_predictions = rf.predict(cv_test_features)"
      ],
      "execution_count": 51,
      "outputs": [
        {
          "output_type": "stream",
          "text": [
            "CPU times: user 26 s, sys: 96.5 ms, total: 26.1 s\n",
            "Wall time: 13.4 s\n"
          ],
          "name": "stdout"
        }
      ]
    },
    {
      "cell_type": "code",
      "metadata": {
        "id": "ztRnhSjwmvOs",
        "colab_type": "code",
        "colab": {
          "base_uri": "https://localhost:8080/",
          "height": 0
        },
        "outputId": "fde99a90-debd-4d02-8268-b6a7376f8e89"
      },
      "source": [
        "labels = ['negative', 'positive']\n",
        "print(classification_report(test_sentiments, rf_bow_predictions))\n",
        "pd.DataFrame(confusion_matrix(test_sentiments, rf_bow_predictions), index=labels, columns=labels)"
      ],
      "execution_count": 52,
      "outputs": [
        {
          "output_type": "stream",
          "text": [
            "              precision    recall  f1-score   support\n",
            "\n",
            "           0       0.98      0.20      0.34       592\n",
            "           1       0.87      1.00      0.93      3115\n",
            "\n",
            "    accuracy                           0.87      3707\n",
            "   macro avg       0.93      0.60      0.63      3707\n",
            "weighted avg       0.89      0.87      0.84      3707\n",
            "\n"
          ],
          "name": "stdout"
        },
        {
          "output_type": "execute_result",
          "data": {
            "text/html": [
              "<div>\n",
              "<style scoped>\n",
              "    .dataframe tbody tr th:only-of-type {\n",
              "        vertical-align: middle;\n",
              "    }\n",
              "\n",
              "    .dataframe tbody tr th {\n",
              "        vertical-align: top;\n",
              "    }\n",
              "\n",
              "    .dataframe thead th {\n",
              "        text-align: right;\n",
              "    }\n",
              "</style>\n",
              "<table border=\"1\" class=\"dataframe\">\n",
              "  <thead>\n",
              "    <tr style=\"text-align: right;\">\n",
              "      <th></th>\n",
              "      <th>negative</th>\n",
              "      <th>positive</th>\n",
              "    </tr>\n",
              "  </thead>\n",
              "  <tbody>\n",
              "    <tr>\n",
              "      <th>negative</th>\n",
              "      <td>121</td>\n",
              "      <td>471</td>\n",
              "    </tr>\n",
              "    <tr>\n",
              "      <th>positive</th>\n",
              "      <td>2</td>\n",
              "      <td>3113</td>\n",
              "    </tr>\n",
              "  </tbody>\n",
              "</table>\n",
              "</div>"
            ],
            "text/plain": [
              "          negative  positive\n",
              "negative       121       471\n",
              "positive         2      3113"
            ]
          },
          "metadata": {
            "tags": []
          },
          "execution_count": 52
        }
      ]
    },
    {
      "cell_type": "code",
      "metadata": {
        "id": "olx2Oj6rmvLt",
        "colab_type": "code",
        "colab": {
          "base_uri": "https://localhost:8080/",
          "height": 0
        },
        "outputId": "7eb51769-e6b1-4a7e-cfb8-5ace7901554c"
      },
      "source": [
        "%%time\n",
        "\n",
        "# Random Forest model on TF-IDF features\n",
        "\n",
        "# train model\n",
        "rf.fit(tv_train_features, train_sentiments)\n",
        "\n",
        "# predict on test data\n",
        "rf_tfidf_predictions = rf.predict(tv_test_features)"
      ],
      "execution_count": 53,
      "outputs": [
        {
          "output_type": "stream",
          "text": [
            "CPU times: user 28 s, sys: 46.4 ms, total: 28.1 s\n",
            "Wall time: 14.4 s\n"
          ],
          "name": "stdout"
        }
      ]
    },
    {
      "cell_type": "code",
      "metadata": {
        "id": "4YBWI4w2mvJQ",
        "colab_type": "code",
        "colab": {
          "base_uri": "https://localhost:8080/",
          "height": 0
        },
        "outputId": "9b5926f7-a3f0-4809-ac72-53401a995bc8"
      },
      "source": [
        "labels = ['negative', 'positive']\n",
        "print(classification_report(test_sentiments, rf_tfidf_predictions))\n",
        "pd.DataFrame(confusion_matrix(test_sentiments, rf_tfidf_predictions), index=labels, columns=labels)"
      ],
      "execution_count": 54,
      "outputs": [
        {
          "output_type": "stream",
          "text": [
            "              precision    recall  f1-score   support\n",
            "\n",
            "           0       1.00      0.21      0.34       592\n",
            "           1       0.87      1.00      0.93      3115\n",
            "\n",
            "    accuracy                           0.87      3707\n",
            "   macro avg       0.93      0.60      0.64      3707\n",
            "weighted avg       0.89      0.87      0.84      3707\n",
            "\n"
          ],
          "name": "stdout"
        },
        {
          "output_type": "execute_result",
          "data": {
            "text/html": [
              "<div>\n",
              "<style scoped>\n",
              "    .dataframe tbody tr th:only-of-type {\n",
              "        vertical-align: middle;\n",
              "    }\n",
              "\n",
              "    .dataframe tbody tr th {\n",
              "        vertical-align: top;\n",
              "    }\n",
              "\n",
              "    .dataframe thead th {\n",
              "        text-align: right;\n",
              "    }\n",
              "</style>\n",
              "<table border=\"1\" class=\"dataframe\">\n",
              "  <thead>\n",
              "    <tr style=\"text-align: right;\">\n",
              "      <th></th>\n",
              "      <th>negative</th>\n",
              "      <th>positive</th>\n",
              "    </tr>\n",
              "  </thead>\n",
              "  <tbody>\n",
              "    <tr>\n",
              "      <th>negative</th>\n",
              "      <td>123</td>\n",
              "      <td>469</td>\n",
              "    </tr>\n",
              "    <tr>\n",
              "      <th>positive</th>\n",
              "      <td>0</td>\n",
              "      <td>3115</td>\n",
              "    </tr>\n",
              "  </tbody>\n",
              "</table>\n",
              "</div>"
            ],
            "text/plain": [
              "          negative  positive\n",
              "negative       123       469\n",
              "positive         0      3115"
            ]
          },
          "metadata": {
            "tags": []
          },
          "execution_count": 54
        }
      ]
    },
    {
      "cell_type": "markdown",
      "metadata": {
        "id": "SVH7x_nruSFf",
        "colab_type": "text"
      },
      "source": [
        "### Using Newer Supervised Deep Learning Models"
      ]
    },
    {
      "cell_type": "code",
      "metadata": {
        "id": "RwFEEeHFuX70",
        "colab_type": "code",
        "colab": {}
      },
      "source": [
        "import gensim\n",
        "from tensorflow import keras\n",
        "from tensorflow.keras.models import Sequential\n",
        "from tensorflow.keras.layers import Dropout, Activation, Dense\n",
        "from sklearn.preprocessing import LabelEncoder"
      ],
      "execution_count": 0,
      "outputs": []
    },
    {
      "cell_type": "markdown",
      "metadata": {
        "id": "IBJZ-t5yuj7J",
        "colab_type": "text"
      },
      "source": [
        "#### Prediction class label encoding"
      ]
    },
    {
      "cell_type": "code",
      "metadata": {
        "id": "qYK8iCEouYCl",
        "colab_type": "code",
        "colab": {}
      },
      "source": [
        "le = LabelEncoder()\n",
        "# tokenize train reviews & encode train labels\n",
        "tokenized_train = [nltk.word_tokenize(text)\n",
        "                       for text in norm_train_reviews]\n",
        "y_train = le.fit_transform(train_sentiments)\n",
        "# tokenize test reviews & encode test labels\n",
        "tokenized_test = [nltk.word_tokenize(text)\n",
        "                       for text in norm_test_reviews]\n",
        "y_test = le.fit_transform(test_sentiments)"
      ],
      "execution_count": 0,
      "outputs": []
    },
    {
      "cell_type": "code",
      "metadata": {
        "id": "9XMig9OnuYAl",
        "colab_type": "code",
        "colab": {
          "base_uri": "https://localhost:8080/",
          "height": 202
        },
        "outputId": "f8c4c709-0a23-4fee-9a21-e112e0b297f5"
      },
      "source": [
        "# print class label encoding map and encoded labels\n",
        "print('Sentiment class label map:', dict(zip(le.classes_, le.transform(le.classes_))), '\\n')\n",
        "print('Sample test label transformation (First 30 records):\\n'+'-'*80,\n",
        "      '\\nActual Labels :', test_sentiments[:30], '\\nEncoded Labels:', y_test[:30], '\\n')\n",
        "print('Sample test label transformation (Last 30 records):\\n'+'-'*80,\n",
        "      '\\nActual Labels :', test_sentiments[len(test_sentiments)-30:], '\\nEncoded Labels:', y_test[len(test_sentiments)-30:])"
      ],
      "execution_count": 57,
      "outputs": [
        {
          "output_type": "stream",
          "text": [
            "Sentiment class label map: {0: 0, 1: 1} \n",
            "\n",
            "Sample test label transformation (First 30 records):\n",
            "-------------------------------------------------------------------------------- \n",
            "Actual Labels : [1 1 1 1 1 1 1 1 1 1 1 0 0 1 0 1 0 0 1 1 1 1 1 0 1 0 1 1 1 1] \n",
            "Encoded Labels: [1 1 1 1 1 1 1 1 1 1 1 0 0 1 0 1 0 0 1 1 1 1 1 0 1 0 1 1 1 1] \n",
            "\n",
            "Sample test label transformation (Last 30 records):\n",
            "-------------------------------------------------------------------------------- \n",
            "Actual Labels : [1 1 0 1 1 0 1 1 1 0 1 1 1 1 1 1 1 1 1 1 1 1 1 1 1 1 1 1 0 1] \n",
            "Encoded Labels: [1 1 0 1 1 0 1 1 1 0 1 1 1 1 1 1 1 1 1 1 1 1 1 1 1 1 1 1 0 1]\n"
          ],
          "name": "stdout"
        }
      ]
    },
    {
      "cell_type": "markdown",
      "metadata": {
        "id": "sEg2WmD9yGrA",
        "colab_type": "text"
      },
      "source": [
        "### Feature Engineering with word embeddings"
      ]
    },
    {
      "cell_type": "code",
      "metadata": {
        "id": "Wo1sYuuaya17",
        "colab_type": "code",
        "colab": {}
      },
      "source": [
        "import logging\n",
        "logging.basicConfig(format='%(asctime)s : %(levelname)s : %(message)s', level=logging.INFO)"
      ],
      "execution_count": 0,
      "outputs": []
    },
    {
      "cell_type": "code",
      "metadata": {
        "id": "ZNUwRDZsya-i",
        "colab_type": "code",
        "colab": {
          "base_uri": "https://localhost:8080/",
          "height": 0
        },
        "outputId": "cbf44b11-f5a1-42ba-dc07-3afbb2eee46a"
      },
      "source": [
        "%%time\n",
        "# build word2vec model\n",
        "w2v_num_features = 300\n",
        "w2v_model = gensim.models.Word2Vec(tokenized_train, size=w2v_num_features, window=150,\n",
        "                                   min_count=10, workers=4, iter=5)"
      ],
      "execution_count": 59,
      "outputs": [
        {
          "output_type": "stream",
          "text": [
            "2019-09-19 15:20:56,939 : INFO : collecting all words and their counts\n",
            "2019-09-19 15:20:56,942 : INFO : PROGRESS: at sentence #0, processed 0 words, keeping 0 word types\n",
            "2019-09-19 15:20:57,104 : INFO : PROGRESS: at sentence #10000, processed 793898 words, keeping 16758 word types\n",
            "2019-09-19 15:20:57,187 : INFO : collected 20360 word types from a corpus of 1177527 raw words and 14825 sentences\n",
            "2019-09-19 15:20:57,189 : INFO : Loading a fresh vocabulary\n",
            "2019-09-19 15:20:57,217 : INFO : effective_min_count=10 retains 4184 unique words (20% of original 20360, drops 16176)\n",
            "2019-09-19 15:20:57,219 : INFO : effective_min_count=10 leaves 1141504 word corpus (96% of original 1177527, drops 36023)\n",
            "2019-09-19 15:20:57,237 : INFO : deleting the raw counts dictionary of 20360 items\n",
            "2019-09-19 15:20:57,239 : INFO : sample=0.001 downsamples 59 most-common words\n",
            "2019-09-19 15:20:57,241 : INFO : downsampling leaves estimated 778079 word corpus (68.2% of prior 1141504)\n",
            "2019-09-19 15:20:57,257 : INFO : estimated required memory for 4184 words and 300 dimensions: 12133600 bytes\n",
            "2019-09-19 15:20:57,258 : INFO : resetting layer weights\n",
            "2019-09-19 15:20:57,333 : INFO : training model with 4 workers on 4184 vocabulary and 300 features, using sg=0 hs=0 sample=0.001 negative=5 window=150\n",
            "2019-09-19 15:20:58,367 : INFO : EPOCH 1 - PROGRESS: at 13.34% examples, 96010 words/s, in_qsize 7, out_qsize 0\n",
            "2019-09-19 15:20:59,454 : INFO : EPOCH 1 - PROGRESS: at 28.20% examples, 102557 words/s, in_qsize 7, out_qsize 0\n",
            "2019-09-19 15:21:00,483 : INFO : EPOCH 1 - PROGRESS: at 41.69% examples, 102166 words/s, in_qsize 7, out_qsize 0\n",
            "2019-09-19 15:21:01,487 : INFO : EPOCH 1 - PROGRESS: at 55.68% examples, 104253 words/s, in_qsize 7, out_qsize 0\n",
            "2019-09-19 15:21:02,497 : INFO : EPOCH 1 - PROGRESS: at 69.03% examples, 104224 words/s, in_qsize 7, out_qsize 0\n",
            "2019-09-19 15:21:03,558 : INFO : EPOCH 1 - PROGRESS: at 84.32% examples, 105407 words/s, in_qsize 7, out_qsize 0\n",
            "2019-09-19 15:21:04,467 : INFO : worker thread finished; awaiting finish of 3 more threads\n",
            "2019-09-19 15:21:04,526 : INFO : worker thread finished; awaiting finish of 2 more threads\n",
            "2019-09-19 15:21:04,575 : INFO : EPOCH 1 - PROGRESS: at 99.24% examples, 106581 words/s, in_qsize 1, out_qsize 1\n",
            "2019-09-19 15:21:04,577 : INFO : worker thread finished; awaiting finish of 1 more threads\n",
            "2019-09-19 15:21:04,579 : INFO : worker thread finished; awaiting finish of 0 more threads\n",
            "2019-09-19 15:21:04,580 : INFO : EPOCH - 1 : training on 1177527 raw words (777718 effective words) took 7.2s, 107425 effective words/s\n",
            "2019-09-19 15:21:05,660 : INFO : EPOCH 2 - PROGRESS: at 13.34% examples, 92044 words/s, in_qsize 7, out_qsize 0\n",
            "2019-09-19 15:21:06,726 : INFO : EPOCH 2 - PROGRESS: at 28.20% examples, 101620 words/s, in_qsize 7, out_qsize 0\n",
            "2019-09-19 15:21:07,758 : INFO : EPOCH 2 - PROGRESS: at 41.54% examples, 101571 words/s, in_qsize 7, out_qsize 0\n",
            "2019-09-19 15:21:08,775 : INFO : EPOCH 2 - PROGRESS: at 55.68% examples, 103503 words/s, in_qsize 7, out_qsize 0\n",
            "2019-09-19 15:21:09,779 : INFO : EPOCH 2 - PROGRESS: at 69.01% examples, 103738 words/s, in_qsize 7, out_qsize 0\n",
            "2019-09-19 15:21:10,780 : INFO : EPOCH 2 - PROGRESS: at 83.53% examples, 104967 words/s, in_qsize 7, out_qsize 0\n",
            "2019-09-19 15:21:11,795 : INFO : EPOCH 2 - PROGRESS: at 97.92% examples, 105642 words/s, in_qsize 3, out_qsize 1\n",
            "2019-09-19 15:21:11,797 : INFO : worker thread finished; awaiting finish of 3 more threads\n",
            "2019-09-19 15:21:11,857 : INFO : worker thread finished; awaiting finish of 2 more threads\n",
            "2019-09-19 15:21:11,895 : INFO : worker thread finished; awaiting finish of 1 more threads\n",
            "2019-09-19 15:21:11,906 : INFO : worker thread finished; awaiting finish of 0 more threads\n",
            "2019-09-19 15:21:11,908 : INFO : EPOCH - 2 : training on 1177527 raw words (778622 effective words) took 7.3s, 106372 effective words/s\n",
            "2019-09-19 15:21:12,967 : INFO : EPOCH 3 - PROGRESS: at 13.34% examples, 93808 words/s, in_qsize 7, out_qsize 0\n",
            "2019-09-19 15:21:14,130 : INFO : EPOCH 3 - PROGRESS: at 28.20% examples, 97890 words/s, in_qsize 8, out_qsize 0\n",
            "2019-09-19 15:21:15,208 : INFO : EPOCH 3 - PROGRESS: at 43.42% examples, 101659 words/s, in_qsize 7, out_qsize 0\n",
            "2019-09-19 15:21:16,229 : INFO : EPOCH 3 - PROGRESS: at 56.71% examples, 101905 words/s, in_qsize 7, out_qsize 1\n",
            "2019-09-19 15:21:17,230 : INFO : EPOCH 3 - PROGRESS: at 69.89% examples, 102392 words/s, in_qsize 7, out_qsize 0\n",
            "2019-09-19 15:21:18,283 : INFO : EPOCH 3 - PROGRESS: at 84.32% examples, 102969 words/s, in_qsize 7, out_qsize 0\n",
            "2019-09-19 15:21:19,201 : INFO : worker thread finished; awaiting finish of 3 more threads\n",
            "2019-09-19 15:21:19,249 : INFO : worker thread finished; awaiting finish of 2 more threads\n",
            "2019-09-19 15:21:19,261 : INFO : worker thread finished; awaiting finish of 1 more threads\n",
            "2019-09-19 15:21:19,278 : INFO : worker thread finished; awaiting finish of 0 more threads\n",
            "2019-09-19 15:21:19,279 : INFO : EPOCH - 3 : training on 1177527 raw words (777439 effective words) took 7.4s, 105620 effective words/s\n",
            "2019-09-19 15:21:20,335 : INFO : EPOCH 4 - PROGRESS: at 13.36% examples, 93914 words/s, in_qsize 7, out_qsize 0\n",
            "2019-09-19 15:21:21,425 : INFO : EPOCH 4 - PROGRESS: at 28.20% examples, 101361 words/s, in_qsize 7, out_qsize 0\n",
            "2019-09-19 15:21:22,477 : INFO : EPOCH 4 - PROGRESS: at 41.54% examples, 100759 words/s, in_qsize 8, out_qsize 1\n",
            "2019-09-19 15:21:23,507 : INFO : EPOCH 4 - PROGRESS: at 56.71% examples, 104047 words/s, in_qsize 7, out_qsize 0\n",
            "2019-09-19 15:21:24,509 : INFO : EPOCH 4 - PROGRESS: at 69.89% examples, 104218 words/s, in_qsize 7, out_qsize 0\n",
            "2019-09-19 15:21:25,601 : INFO : EPOCH 4 - PROGRESS: at 84.32% examples, 103876 words/s, in_qsize 7, out_qsize 0\n",
            "2019-09-19 15:21:26,533 : INFO : worker thread finished; awaiting finish of 3 more threads\n",
            "2019-09-19 15:21:26,605 : INFO : EPOCH 4 - PROGRESS: at 98.68% examples, 104856 words/s, in_qsize 2, out_qsize 1\n",
            "2019-09-19 15:21:26,611 : INFO : worker thread finished; awaiting finish of 2 more threads\n",
            "2019-09-19 15:21:26,617 : INFO : worker thread finished; awaiting finish of 1 more threads\n",
            "2019-09-19 15:21:26,625 : INFO : worker thread finished; awaiting finish of 0 more threads\n",
            "2019-09-19 15:21:26,626 : INFO : EPOCH - 4 : training on 1177527 raw words (778103 effective words) took 7.3s, 105994 effective words/s\n",
            "2019-09-19 15:21:27,658 : INFO : EPOCH 5 - PROGRESS: at 13.34% examples, 96226 words/s, in_qsize 7, out_qsize 0\n",
            "2019-09-19 15:21:28,726 : INFO : EPOCH 5 - PROGRESS: at 28.20% examples, 103629 words/s, in_qsize 7, out_qsize 0\n",
            "2019-09-19 15:21:29,821 : INFO : EPOCH 5 - PROGRESS: at 43.42% examples, 105026 words/s, in_qsize 7, out_qsize 0\n",
            "2019-09-19 15:21:30,840 : INFO : EPOCH 5 - PROGRESS: at 56.71% examples, 104425 words/s, in_qsize 7, out_qsize 0\n",
            "2019-09-19 15:21:31,951 : INFO : EPOCH 5 - PROGRESS: at 71.51% examples, 104809 words/s, in_qsize 7, out_qsize 0\n",
            "2019-09-19 15:21:33,001 : INFO : EPOCH 5 - PROGRESS: at 87.74% examples, 107109 words/s, in_qsize 7, out_qsize 0\n",
            "2019-09-19 15:21:33,763 : INFO : worker thread finished; awaiting finish of 3 more threads\n",
            "2019-09-19 15:21:33,830 : INFO : worker thread finished; awaiting finish of 2 more threads\n",
            "2019-09-19 15:21:33,835 : INFO : worker thread finished; awaiting finish of 1 more threads\n",
            "2019-09-19 15:21:33,845 : INFO : worker thread finished; awaiting finish of 0 more threads\n",
            "2019-09-19 15:21:33,847 : INFO : EPOCH - 5 : training on 1177527 raw words (777884 effective words) took 7.2s, 107844 effective words/s\n",
            "2019-09-19 15:21:33,847 : INFO : training on a 5887635 raw words (3889766 effective words) took 36.5s, 106529 effective words/s\n"
          ],
          "name": "stderr"
        },
        {
          "output_type": "stream",
          "text": [
            "CPU times: user 1min 12s, sys: 168 ms, total: 1min 12s\n",
            "Wall time: 36.9 s\n"
          ],
          "name": "stdout"
        }
      ]
    },
    {
      "cell_type": "code",
      "metadata": {
        "id": "ns4N_Bvuya72",
        "colab_type": "code",
        "colab": {}
      },
      "source": [
        "def averaged_word2vec_vectorizer(corpus, model, num_features):\n",
        "    vocabulary = set(model.wv.index2word)\n",
        "    \n",
        "    def average_word_vectors(words, model, vocabulary, num_features):\n",
        "        feature_vector = np.zeros((num_features,), dtype=\"float64\")\n",
        "        nwords = 0.\n",
        "        \n",
        "        for word in words:\n",
        "            if word in vocabulary: \n",
        "                nwords = nwords + 1.\n",
        "                feature_vector = np.add(feature_vector, model.wv[word])\n",
        "        if nwords:\n",
        "            feature_vector = np.divide(feature_vector, nwords)\n",
        "\n",
        "        return feature_vector\n",
        "\n",
        "    features = [average_word_vectors(tokenized_sentence, model, vocabulary, num_features)\n",
        "                    for tokenized_sentence in corpus]\n",
        "    return np.array(features)"
      ],
      "execution_count": 0,
      "outputs": []
    },
    {
      "cell_type": "code",
      "metadata": {
        "id": "hqbKs6hEy3_D",
        "colab_type": "code",
        "colab": {}
      },
      "source": [
        "# generate averaged word vector features from word2vec model\n",
        "avg_wv_train_features = averaged_word2vec_vectorizer(corpus=tokenized_train, model=w2v_model,\n",
        "                                                     num_features=w2v_num_features)\n",
        "avg_wv_test_features = averaged_word2vec_vectorizer(corpus=tokenized_test, model=w2v_model,\n",
        "                                                    num_features=w2v_num_features)"
      ],
      "execution_count": 0,
      "outputs": []
    },
    {
      "cell_type": "code",
      "metadata": {
        "id": "S2_JeeJVy37r",
        "colab_type": "code",
        "colab": {
          "base_uri": "https://localhost:8080/",
          "height": 0
        },
        "outputId": "2a256ec8-4d38-47b4-870d-b53d27b67ba9"
      },
      "source": [
        "print('Word2Vec model:> Train features shape:', avg_wv_train_features.shape, ' Test features shape:', avg_wv_test_features.shape)"
      ],
      "execution_count": 62,
      "outputs": [
        {
          "output_type": "stream",
          "text": [
            "Word2Vec model:> Train features shape: (14825, 300)  Test features shape: (3707, 300)\n"
          ],
          "name": "stdout"
        }
      ]
    },
    {
      "cell_type": "markdown",
      "metadata": {
        "id": "VOEgrOldzzUc",
        "colab_type": "text"
      },
      "source": [
        "### Using Deep Neural Networks "
      ]
    },
    {
      "cell_type": "markdown",
      "metadata": {
        "id": "7caRYyKn0Bxn",
        "colab_type": "text"
      },
      "source": [
        "#### Building Deep neural network architecture"
      ]
    },
    {
      "cell_type": "code",
      "metadata": {
        "id": "qqoAlNM4zfPP",
        "colab_type": "code",
        "colab": {}
      },
      "source": [
        "def construct_deepnn_architecture(num_input_features):\n",
        "    dnn_model = Sequential()\n",
        "    dnn_model.add(Dense(512, input_shape=(num_input_features,)))\n",
        "    dnn_model.add(Activation('relu'))\n",
        "    dnn_model.add(Dropout(0.2))\n",
        "    \n",
        "    dnn_model.add(Dense(256))\n",
        "    dnn_model.add(Activation('relu'))\n",
        "    dnn_model.add(Dropout(0.2))\n",
        "    \n",
        "    dnn_model.add(Dense(256))\n",
        "    dnn_model.add(Activation('relu'))\n",
        "    dnn_model.add(Dropout(0.2))\n",
        "    \n",
        "    dnn_model.add(Dense(1))\n",
        "    dnn_model.add(Activation('sigmoid'))\n",
        "\n",
        "    dnn_model.compile(loss='binary_crossentropy', optimizer='adam',                 \n",
        "                      metrics=['accuracy'])\n",
        "    return dnn_model"
      ],
      "execution_count": 0,
      "outputs": []
    },
    {
      "cell_type": "code",
      "metadata": {
        "id": "Gd72mYi1zfMB",
        "colab_type": "code",
        "colab": {
          "base_uri": "https://localhost:8080/",
          "height": 0
        },
        "outputId": "44e3cbf0-7a60-4d0a-c87f-1545908209c4"
      },
      "source": [
        "w2v_dnn = construct_deepnn_architecture(num_input_features=w2v_num_features)"
      ],
      "execution_count": 64,
      "outputs": [
        {
          "output_type": "stream",
          "text": [
            "WARNING:tensorflow:From /usr/local/lib/python3.6/dist-packages/tensorflow/python/ops/init_ops.py:1251: calling VarianceScaling.__init__ (from tensorflow.python.ops.init_ops) with dtype is deprecated and will be removed in a future version.\n",
            "Instructions for updating:\n",
            "Call initializer instance with the dtype argument instead of passing it to the constructor\n"
          ],
          "name": "stdout"
        },
        {
          "output_type": "stream",
          "text": [
            "2019-09-19 15:21:39,229 : WARNING : From /usr/local/lib/python3.6/dist-packages/tensorflow/python/ops/init_ops.py:1251: calling VarianceScaling.__init__ (from tensorflow.python.ops.init_ops) with dtype is deprecated and will be removed in a future version.\n",
            "Instructions for updating:\n",
            "Call initializer instance with the dtype argument instead of passing it to the constructor\n"
          ],
          "name": "stderr"
        },
        {
          "output_type": "stream",
          "text": [
            "WARNING:tensorflow:From /usr/local/lib/python3.6/dist-packages/tensorflow/python/ops/nn_impl.py:180: add_dispatch_support.<locals>.wrapper (from tensorflow.python.ops.array_ops) is deprecated and will be removed in a future version.\n",
            "Instructions for updating:\n",
            "Use tf.where in 2.0, which has the same broadcast rule as np.where\n"
          ],
          "name": "stdout"
        },
        {
          "output_type": "stream",
          "text": [
            "2019-09-19 15:21:39,455 : WARNING : From /usr/local/lib/python3.6/dist-packages/tensorflow/python/ops/nn_impl.py:180: add_dispatch_support.<locals>.wrapper (from tensorflow.python.ops.array_ops) is deprecated and will be removed in a future version.\n",
            "Instructions for updating:\n",
            "Use tf.where in 2.0, which has the same broadcast rule as np.where\n"
          ],
          "name": "stderr"
        }
      ]
    },
    {
      "cell_type": "markdown",
      "metadata": {
        "id": "mGJNFM570PAm",
        "colab_type": "text"
      },
      "source": [
        "#### Visualize sample deep architecture"
      ]
    },
    {
      "cell_type": "code",
      "metadata": {
        "id": "CIHrtGIJzfJx",
        "colab_type": "code",
        "colab": {
          "base_uri": "https://localhost:8080/",
          "height": 0
        },
        "outputId": "42a4eb6d-5568-4a16-f531-c7d4b0db4e83"
      },
      "source": [
        "w2v_dnn.summary()"
      ],
      "execution_count": 65,
      "outputs": [
        {
          "output_type": "stream",
          "text": [
            "Model: \"sequential\"\n",
            "_________________________________________________________________\n",
            "Layer (type)                 Output Shape              Param #   \n",
            "=================================================================\n",
            "dense (Dense)                (None, 512)               154112    \n",
            "_________________________________________________________________\n",
            "activation (Activation)      (None, 512)               0         \n",
            "_________________________________________________________________\n",
            "dropout (Dropout)            (None, 512)               0         \n",
            "_________________________________________________________________\n",
            "dense_1 (Dense)              (None, 256)               131328    \n",
            "_________________________________________________________________\n",
            "activation_1 (Activation)    (None, 256)               0         \n",
            "_________________________________________________________________\n",
            "dropout_1 (Dropout)          (None, 256)               0         \n",
            "_________________________________________________________________\n",
            "dense_2 (Dense)              (None, 256)               65792     \n",
            "_________________________________________________________________\n",
            "activation_2 (Activation)    (None, 256)               0         \n",
            "_________________________________________________________________\n",
            "dropout_2 (Dropout)          (None, 256)               0         \n",
            "_________________________________________________________________\n",
            "dense_3 (Dense)              (None, 1)                 257       \n",
            "_________________________________________________________________\n",
            "activation_3 (Activation)    (None, 1)                 0         \n",
            "=================================================================\n",
            "Total params: 351,489\n",
            "Trainable params: 351,489\n",
            "Non-trainable params: 0\n",
            "_________________________________________________________________\n"
          ],
          "name": "stdout"
        }
      ]
    },
    {
      "cell_type": "markdown",
      "metadata": {
        "id": "XQMXdqnc0ass",
        "colab_type": "text"
      },
      "source": [
        "#### Model Training, Prediction and Performance Evaluation"
      ]
    },
    {
      "cell_type": "code",
      "metadata": {
        "id": "yOskd2Wa0b46",
        "colab_type": "code",
        "colab": {
          "base_uri": "https://localhost:8080/",
          "height": 0
        },
        "outputId": "a6866721-633c-4719-ca17-30d374bf377f"
      },
      "source": [
        "batch_size = 100\n",
        "w2v_dnn.fit(avg_wv_train_features, y_train, epochs=10, batch_size=batch_size, \n",
        "            shuffle=True, validation_split=0.1, verbose=1)"
      ],
      "execution_count": 66,
      "outputs": [
        {
          "output_type": "stream",
          "text": [
            "Train on 13342 samples, validate on 1483 samples\n",
            "Epoch 1/10\n",
            "13342/13342 [==============================] - 2s 168us/sample - loss: 0.3242 - acc: 0.8607 - val_loss: 0.2843 - val_acc: 0.8766\n",
            "Epoch 2/10\n",
            "13342/13342 [==============================] - 2s 115us/sample - loss: 0.2930 - acc: 0.8748 - val_loss: 0.2852 - val_acc: 0.8800\n",
            "Epoch 3/10\n",
            "13342/13342 [==============================] - 2s 116us/sample - loss: 0.2815 - acc: 0.8830 - val_loss: 0.2840 - val_acc: 0.8719\n",
            "Epoch 4/10\n",
            "13342/13342 [==============================] - 2s 119us/sample - loss: 0.2757 - acc: 0.8820 - val_loss: 0.2710 - val_acc: 0.8806\n",
            "Epoch 5/10\n",
            "13342/13342 [==============================] - 2s 122us/sample - loss: 0.2697 - acc: 0.8838 - val_loss: 0.2783 - val_acc: 0.8786\n",
            "Epoch 6/10\n",
            "13342/13342 [==============================] - 2s 118us/sample - loss: 0.2635 - acc: 0.8882 - val_loss: 0.2663 - val_acc: 0.8793\n",
            "Epoch 7/10\n",
            "13342/13342 [==============================] - 2s 116us/sample - loss: 0.2618 - acc: 0.8894 - val_loss: 0.2671 - val_acc: 0.8840\n",
            "Epoch 8/10\n",
            "13342/13342 [==============================] - 2s 116us/sample - loss: 0.2501 - acc: 0.8948 - val_loss: 0.2823 - val_acc: 0.8759\n",
            "Epoch 9/10\n",
            "13342/13342 [==============================] - 2s 115us/sample - loss: 0.2476 - acc: 0.8950 - val_loss: 0.2721 - val_acc: 0.8780\n",
            "Epoch 10/10\n",
            "13342/13342 [==============================] - 2s 116us/sample - loss: 0.2418 - acc: 0.8950 - val_loss: 0.2683 - val_acc: 0.8840\n"
          ],
          "name": "stdout"
        },
        {
          "output_type": "execute_result",
          "data": {
            "text/plain": [
              "<tensorflow.python.keras.callbacks.History at 0x7f1b5f859470>"
            ]
          },
          "metadata": {
            "tags": []
          },
          "execution_count": 66
        }
      ]
    },
    {
      "cell_type": "code",
      "metadata": {
        "id": "tcN6JcPczfDB",
        "colab_type": "code",
        "colab": {
          "base_uri": "https://localhost:8080/",
          "height": 0
        },
        "outputId": "a5bb5967-6099-4b7a-b59f-c55aa8da1c47"
      },
      "source": [
        "y_pred = w2v_dnn.predict_classes(avg_wv_test_features)\n",
        "predictions = le.inverse_transform(y_pred) "
      ],
      "execution_count": 67,
      "outputs": [
        {
          "output_type": "stream",
          "text": [
            "/usr/local/lib/python3.6/dist-packages/sklearn/preprocessing/label.py:273: DataConversionWarning: A column-vector y was passed when a 1d array was expected. Please change the shape of y to (n_samples, ), for example using ravel().\n",
            "  y = column_or_1d(y, warn=True)\n"
          ],
          "name": "stderr"
        }
      ]
    },
    {
      "cell_type": "code",
      "metadata": {
        "id": "J2ve61_2zfBJ",
        "colab_type": "code",
        "colab": {
          "base_uri": "https://localhost:8080/",
          "height": 0
        },
        "outputId": "36b3453a-3ae4-4a4b-98cb-29e829ac6fc8"
      },
      "source": [
        "labels = ['negative', 'positive']\n",
        "print(classification_report(test_sentiments, predictions))\n",
        "pd.DataFrame(confusion_matrix(test_sentiments, predictions), index=labels, columns=labels)"
      ],
      "execution_count": 68,
      "outputs": [
        {
          "output_type": "stream",
          "text": [
            "              precision    recall  f1-score   support\n",
            "\n",
            "           0       0.66      0.51      0.57       592\n",
            "           1       0.91      0.95      0.93      3115\n",
            "\n",
            "    accuracy                           0.88      3707\n",
            "   macro avg       0.78      0.73      0.75      3707\n",
            "weighted avg       0.87      0.88      0.87      3707\n",
            "\n"
          ],
          "name": "stdout"
        },
        {
          "output_type": "execute_result",
          "data": {
            "text/html": [
              "<div>\n",
              "<style scoped>\n",
              "    .dataframe tbody tr th:only-of-type {\n",
              "        vertical-align: middle;\n",
              "    }\n",
              "\n",
              "    .dataframe tbody tr th {\n",
              "        vertical-align: top;\n",
              "    }\n",
              "\n",
              "    .dataframe thead th {\n",
              "        text-align: right;\n",
              "    }\n",
              "</style>\n",
              "<table border=\"1\" class=\"dataframe\">\n",
              "  <thead>\n",
              "    <tr style=\"text-align: right;\">\n",
              "      <th></th>\n",
              "      <th>negative</th>\n",
              "      <th>positive</th>\n",
              "    </tr>\n",
              "  </thead>\n",
              "  <tbody>\n",
              "    <tr>\n",
              "      <th>negative</th>\n",
              "      <td>301</td>\n",
              "      <td>291</td>\n",
              "    </tr>\n",
              "    <tr>\n",
              "      <th>positive</th>\n",
              "      <td>157</td>\n",
              "      <td>2958</td>\n",
              "    </tr>\n",
              "  </tbody>\n",
              "</table>\n",
              "</div>"
            ],
            "text/plain": [
              "          negative  positive\n",
              "negative       301       291\n",
              "positive       157      2958"
            ]
          },
          "metadata": {
            "tags": []
          },
          "execution_count": 68
        }
      ]
    },
    {
      "cell_type": "markdown",
      "metadata": {
        "id": "85WaxS68zQsf",
        "colab_type": "text"
      },
      "source": [
        "### Using Lexicon Models"
      ]
    },
    {
      "cell_type": "markdown",
      "metadata": {
        "id": "TeP29fWFnDqZ",
        "colab_type": "text"
      },
      "source": [
        "#### Using TextBlob"
      ]
    },
    {
      "cell_type": "code",
      "metadata": {
        "id": "WsQEO3IEnDqa",
        "colab_type": "code",
        "outputId": "5206e9a6-658d-4db2-d6bf-b6033b1e4acc",
        "colab": {
          "base_uri": "https://localhost:8080/",
          "height": 67
        }
      },
      "source": [
        "!pip install textblob"
      ],
      "execution_count": 69,
      "outputs": [
        {
          "output_type": "stream",
          "text": [
            "Requirement already satisfied: textblob in /usr/local/lib/python3.6/dist-packages (0.15.3)\n",
            "Requirement already satisfied: nltk>=3.1 in /usr/local/lib/python3.6/dist-packages (from textblob) (3.2.5)\n",
            "Requirement already satisfied: six in /usr/local/lib/python3.6/dist-packages (from nltk>=3.1->textblob) (1.12.0)\n"
          ],
          "name": "stdout"
        }
      ]
    },
    {
      "cell_type": "code",
      "metadata": {
        "id": "NtqgrK7SnDqe",
        "colab_type": "code",
        "colab": {}
      },
      "source": [
        "import textblob"
      ],
      "execution_count": 0,
      "outputs": []
    },
    {
      "cell_type": "code",
      "metadata": {
        "id": "2xRkyMGWBzZ7",
        "colab_type": "code",
        "colab": {}
      },
      "source": [
        "sentiment_polarity = [textblob.TextBlob(review).sentiment.polarity for review in norm_test_reviews]"
      ],
      "execution_count": 0,
      "outputs": []
    },
    {
      "cell_type": "code",
      "metadata": {
        "id": "nhStXpt6DiDq",
        "colab_type": "code",
        "colab": {}
      },
      "source": [
        "predicted_sentiments = [1 if score >= 0.1 else 0 for score in sentiment_polarity]"
      ],
      "execution_count": 0,
      "outputs": []
    },
    {
      "cell_type": "code",
      "metadata": {
        "id": "qnROMe60C-uN",
        "colab_type": "code",
        "colab": {
          "base_uri": "https://localhost:8080/",
          "height": 258
        },
        "outputId": "df0cd9ae-2802-476e-fbc9-89d3341c66ab"
      },
      "source": [
        "labels = ['negative', 'positive']\n",
        "print(classification_report(test_sentiments, predicted_sentiments))\n",
        "pd.DataFrame(confusion_matrix(test_sentiments, predicted_sentiments), index=labels, columns=labels)"
      ],
      "execution_count": 82,
      "outputs": [
        {
          "output_type": "stream",
          "text": [
            "              precision    recall  f1-score   support\n",
            "\n",
            "           0       0.44      0.64      0.52       592\n",
            "           1       0.93      0.84      0.88      3115\n",
            "\n",
            "    accuracy                           0.81      3707\n",
            "   macro avg       0.68      0.74      0.70      3707\n",
            "weighted avg       0.85      0.81      0.82      3707\n",
            "\n"
          ],
          "name": "stdout"
        },
        {
          "output_type": "execute_result",
          "data": {
            "text/html": [
              "<div>\n",
              "<style scoped>\n",
              "    .dataframe tbody tr th:only-of-type {\n",
              "        vertical-align: middle;\n",
              "    }\n",
              "\n",
              "    .dataframe tbody tr th {\n",
              "        vertical-align: top;\n",
              "    }\n",
              "\n",
              "    .dataframe thead th {\n",
              "        text-align: right;\n",
              "    }\n",
              "</style>\n",
              "<table border=\"1\" class=\"dataframe\">\n",
              "  <thead>\n",
              "    <tr style=\"text-align: right;\">\n",
              "      <th></th>\n",
              "      <th>negative</th>\n",
              "      <th>positive</th>\n",
              "    </tr>\n",
              "  </thead>\n",
              "  <tbody>\n",
              "    <tr>\n",
              "      <th>negative</th>\n",
              "      <td>380</td>\n",
              "      <td>212</td>\n",
              "    </tr>\n",
              "    <tr>\n",
              "      <th>positive</th>\n",
              "      <td>488</td>\n",
              "      <td>2627</td>\n",
              "    </tr>\n",
              "  </tbody>\n",
              "</table>\n",
              "</div>"
            ],
            "text/plain": [
              "          negative  positive\n",
              "negative       380       212\n",
              "positive       488      2627"
            ]
          },
          "metadata": {
            "tags": []
          },
          "execution_count": 82
        }
      ]
    },
    {
      "cell_type": "code",
      "metadata": {
        "id": "wwW2vDIInDqh",
        "colab_type": "code",
        "outputId": "c2b399c2-6e40-4a85-ff68-77718212dd1a",
        "colab": {
          "base_uri": "https://localhost:8080/",
          "height": 238
        }
      },
      "source": [
        "for review, sentiment in zip(norm_test_reviews[9:12], test_sentiments[9:12]):\n",
        "    print(\"REVIEW: \", review)\n",
        "    print(\"SENTIMENT: \", sentiment)\n",
        "    print('PREDICTED Sentiment polarity:', textblob.TextBlob(text_pre_processor(review)).sentiment.polarity)\n",
        "    print('-'*120)"
      ],
      "execution_count": 85,
      "outputs": [
        {
          "output_type": "stream",
          "text": [
            "REVIEW:  this xylitol product have a very mild sweetness it be not bitter at all like some stevia product i have use i definitely recommend xylosweet\n",
            "SENTIMENT:  1\n",
            "PREDICTED Sentiment polarity: 0.16111111111111112\n",
            "------------------------------------------------------------------------------------------------------------------------\n",
            "REVIEW:  i recently buy my first set of air plant love them come nicely package have purple bloom bring lot of joy would be great if accompany by instruction no worry contact the seller email right away regard care of the plant hardy plant need mist time a week depend on the humidity just get to know these little guy and gals enjoy them i display them in candle holder glass fill with vase gem and pebble look great now my husband want me to make of these as gift must buy\n",
            "SENTIMENT:  1\n",
            "PREDICTED Sentiment polarity: 0.42482142857142857\n",
            "------------------------------------------------------------------------------------------------------------------------\n",
            "REVIEW:  i buy this item and put the seed inside under a grow light along with several other different type of seed all of the seed i plant do very well except for these of the two package that i buy each have a less than germination rate i buy one of my package from amazon and the other from lowes both have the same terrible germination\n",
            "SENTIMENT:  0\n",
            "PREDICTED Sentiment polarity: -0.09074074074074073\n",
            "------------------------------------------------------------------------------------------------------------------------\n"
          ],
          "name": "stdout"
        }
      ]
    },
    {
      "cell_type": "markdown",
      "metadata": {
        "id": "rwA6nHkXnDqk",
        "colab_type": "text"
      },
      "source": [
        "#### Using AFINN"
      ]
    },
    {
      "cell_type": "code",
      "metadata": {
        "id": "5AjASd_pnDqk",
        "colab_type": "code",
        "outputId": "78f073e0-ced1-407c-9c77-713f97bfa731",
        "colab": {
          "base_uri": "https://localhost:8080/",
          "height": 34
        }
      },
      "source": [
        "!pip install afinn"
      ],
      "execution_count": 88,
      "outputs": [
        {
          "output_type": "stream",
          "text": [
            "Requirement already satisfied: afinn in /usr/local/lib/python3.6/dist-packages (0.1)\n"
          ],
          "name": "stdout"
        }
      ]
    },
    {
      "cell_type": "code",
      "metadata": {
        "id": "OuuqT1u8nDqm",
        "colab_type": "code",
        "colab": {}
      },
      "source": [
        "from afinn import Afinn\n",
        "\n",
        "afn = Afinn(emoticons=True)"
      ],
      "execution_count": 0,
      "outputs": []
    },
    {
      "cell_type": "code",
      "metadata": {
        "id": "iKgNXTqBIt8_",
        "colab_type": "code",
        "colab": {}
      },
      "source": [
        "afinn_scores = [afn.score(review) for review in norm_test_reviews]"
      ],
      "execution_count": 0,
      "outputs": []
    },
    {
      "cell_type": "code",
      "metadata": {
        "id": "pI8Ybi7cGm4-",
        "colab_type": "code",
        "colab": {}
      },
      "source": [
        "predicted_sentiments = [1 if score >= 0.1 else 0 for score in afinn_scores]"
      ],
      "execution_count": 0,
      "outputs": []
    },
    {
      "cell_type": "code",
      "metadata": {
        "id": "_G2YXeVkG1Sj",
        "colab_type": "code",
        "colab": {
          "base_uri": "https://localhost:8080/",
          "height": 258
        },
        "outputId": "c305e61e-bb61-4b49-ef36-b30b3d02eefd"
      },
      "source": [
        "labels = ['negative', 'positive']\n",
        "print(classification_report(test_sentiments, predicted_sentiments))\n",
        "pd.DataFrame(confusion_matrix(test_sentiments, predicted_sentiments), index=labels, columns=labels)"
      ],
      "execution_count": 103,
      "outputs": [
        {
          "output_type": "stream",
          "text": [
            "              precision    recall  f1-score   support\n",
            "\n",
            "           0       0.53      0.42      0.47       592\n",
            "           1       0.89      0.93      0.91      3115\n",
            "\n",
            "    accuracy                           0.85      3707\n",
            "   macro avg       0.71      0.67      0.69      3707\n",
            "weighted avg       0.84      0.85      0.84      3707\n",
            "\n"
          ],
          "name": "stdout"
        },
        {
          "output_type": "execute_result",
          "data": {
            "text/html": [
              "<div>\n",
              "<style scoped>\n",
              "    .dataframe tbody tr th:only-of-type {\n",
              "        vertical-align: middle;\n",
              "    }\n",
              "\n",
              "    .dataframe tbody tr th {\n",
              "        vertical-align: top;\n",
              "    }\n",
              "\n",
              "    .dataframe thead th {\n",
              "        text-align: right;\n",
              "    }\n",
              "</style>\n",
              "<table border=\"1\" class=\"dataframe\">\n",
              "  <thead>\n",
              "    <tr style=\"text-align: right;\">\n",
              "      <th></th>\n",
              "      <th>negative</th>\n",
              "      <th>positive</th>\n",
              "    </tr>\n",
              "  </thead>\n",
              "  <tbody>\n",
              "    <tr>\n",
              "      <th>negative</th>\n",
              "      <td>246</td>\n",
              "      <td>346</td>\n",
              "    </tr>\n",
              "    <tr>\n",
              "      <th>positive</th>\n",
              "      <td>218</td>\n",
              "      <td>2897</td>\n",
              "    </tr>\n",
              "  </tbody>\n",
              "</table>\n",
              "</div>"
            ],
            "text/plain": [
              "          negative  positive\n",
              "negative       246       346\n",
              "positive       218      2897"
            ]
          },
          "metadata": {
            "tags": []
          },
          "execution_count": 103
        }
      ]
    },
    {
      "cell_type": "code",
      "metadata": {
        "id": "qduSIN0AnDqo",
        "colab_type": "code",
        "outputId": "04586771-0372-463a-c539-983e95bb269b",
        "colab": {
          "base_uri": "https://localhost:8080/",
          "height": 238
        }
      },
      "source": [
        "# Testing just 3 reviews and their sentiments with AFINN Score\n",
        "\n",
        "for review, sentiment in zip(norm_test_reviews[9:12], test_sentiments[9:12]):\n",
        "    print(\"REVIEW: \", review)\n",
        "    print(\"SENTIMENT: \", sentiment)\n",
        "    print('PREDICTED Sentiment polarity:', afn.score(review))\n",
        "    print('-'*120)"
      ],
      "execution_count": 104,
      "outputs": [
        {
          "output_type": "stream",
          "text": [
            "REVIEW:  this xylitol product have a very mild sweetness it be not bitter at all like some stevia product i have use i definitely recommend xylosweet\n",
            "SENTIMENT:  1\n",
            "PREDICTED Sentiment polarity: 2.0\n",
            "------------------------------------------------------------------------------------------------------------------------\n",
            "REVIEW:  i recently buy my first set of air plant love them come nicely package have purple bloom bring lot of joy would be great if accompany by instruction no worry contact the seller email right away regard care of the plant hardy plant need mist time a week depend on the humidity just get to know these little guy and gals enjoy them i display them in candle holder glass fill with vase gem and pebble look great now my husband want me to make of these as gift must buy\n",
            "SENTIMENT:  1\n",
            "PREDICTED Sentiment polarity: 20.0\n",
            "------------------------------------------------------------------------------------------------------------------------\n",
            "REVIEW:  i buy this item and put the seed inside under a grow light along with several other different type of seed all of the seed i plant do very well except for these of the two package that i buy each have a less than germination rate i buy one of my package from amazon and the other from lowes both have the same terrible germination\n",
            "SENTIMENT:  0\n",
            "PREDICTED Sentiment polarity: -3.0\n",
            "------------------------------------------------------------------------------------------------------------------------\n"
          ],
          "name": "stdout"
        }
      ]
    },
    {
      "cell_type": "markdown",
      "metadata": {
        "id": "gu2yTb48nDqp",
        "colab_type": "text"
      },
      "source": [
        "#### Using VADER"
      ]
    },
    {
      "cell_type": "code",
      "metadata": {
        "id": "iDZyQFKMnDqq",
        "colab_type": "code",
        "outputId": "61648628-a2b0-48bf-8abf-45dac2f0dbde",
        "colab": {
          "base_uri": "https://localhost:8080/",
          "height": 50
        }
      },
      "source": [
        "nltk.download('vader_lexicon')\n",
        "from nltk.sentiment.vader import SentimentIntensityAnalyzer"
      ],
      "execution_count": 105,
      "outputs": [
        {
          "output_type": "stream",
          "text": [
            "[nltk_data] Downloading package vader_lexicon to /root/nltk_data...\n",
            "[nltk_data]   Package vader_lexicon is already up-to-date!\n"
          ],
          "name": "stdout"
        }
      ]
    },
    {
      "cell_type": "code",
      "metadata": {
        "id": "3vyZdJ19nDqr",
        "colab_type": "code",
        "colab": {}
      },
      "source": [
        "def analyze_sentiment_vader_lexicon(review, \n",
        "                                    threshold=0.1,\n",
        "                                    verbose=False):    \n",
        "    # analyze the sentiment for review\n",
        "    analyzer = SentimentIntensityAnalyzer()\n",
        "    scores = analyzer.polarity_scores(review)\n",
        "    # get aggregate scores and final sentiment\n",
        "    agg_score = scores['compound']\n",
        "    final_sentiment = 'positive' if agg_score >= threshold\\\n",
        "                                   else 'negative'\n",
        "    if verbose:\n",
        "        # display detailed sentiment statistics\n",
        "        positive = str(round(scores['pos'], 2)*100)+'%'\n",
        "        final = round(agg_score, 2)\n",
        "        negative = str(round(scores['neg'], 2)*100)+'%'\n",
        "        neutral = str(round(scores['neu'], 2)*100)+'%'\n",
        "        sentiment_frame = pd.DataFrame([[final_sentiment, final, positive,\n",
        "                                        negative, neutral]],\n",
        "                                        columns=pd.MultiIndex(levels=[['SENTIMENT STATS:'], \n",
        "                                                                      ['Predicted Sentiment', 'Polarity Score',\n",
        "                                                                       'Positive', 'Negative', 'Neutral']], \n",
        "                                                              codes=[[0,0,0,0,0],[0,1,2,3,4]]))\n",
        "        print(sentiment_frame)\n",
        "    \n",
        "    return final_sentiment"
      ],
      "execution_count": 0,
      "outputs": []
    },
    {
      "cell_type": "code",
      "metadata": {
        "id": "quMSmISMnDqt",
        "colab_type": "code",
        "outputId": "3bc9342f-35c0-4710-9253-00453e1fd039",
        "colab": {
          "base_uri": "https://localhost:8080/",
          "height": 339
        }
      },
      "source": [
        "# Testing just 3 reviews and their sentiments with AFINN Score\n",
        "\n",
        "for review, sentiment in zip(norm_test_reviews[9:12], test_sentiments[9:12]):\n",
        "    print(\"REVIEW: \", review)\n",
        "    print(\"SENTIMENT: \", sentiment)\n",
        "    pred = analyze_sentiment_vader_lexicon(review, threshold=0.4, verbose=True)    \n",
        "    print('-'*120)"
      ],
      "execution_count": 98,
      "outputs": [
        {
          "output_type": "stream",
          "text": [
            "REVIEW:  this xylitol product have a very mild sweetness it be not bitter at all like some stevia product i have use i definitely recommend xylosweet\n",
            "SENTIMENT:  1\n",
            "     SENTIMENT STATS:                                                     \n",
            "  Predicted Sentiment Polarity Score Positive Negative             Neutral\n",
            "0            positive           0.91    44.0%     0.0%  56.00000000000001%\n",
            "------------------------------------------------------------------------------------------------------------------------\n",
            "REVIEW:  i recently buy my first set of air plant love them come nicely package have purple bloom bring lot of joy would be great if accompany by instruction no worry contact the seller email right away regard care of the plant hardy plant need mist time a week depend on the humidity just get to know these little guy and gals enjoy them i display them in candle holder glass fill with vase gem and pebble look great now my husband want me to make of these as gift must buy\n",
            "SENTIMENT:  1\n",
            "     SENTIMENT STATS:                                                     \n",
            "  Predicted Sentiment Polarity Score             Positive Negative Neutral\n",
            "0            positive           0.98  28.000000000000004%     4.0%   67.0%\n",
            "------------------------------------------------------------------------------------------------------------------------\n",
            "REVIEW:  i buy this item and put the seed inside under a grow light along with several other different type of seed all of the seed i plant do very well except for these of the two package that i buy each have a less than germination rate i buy one of my package from amazon and the other from lowes both have the same terrible germination\n",
            "SENTIMENT:  0\n",
            "     SENTIMENT STATS:                                         \n",
            "  Predicted Sentiment Polarity Score Positive Negative Neutral\n",
            "0            negative           -0.0     6.0%     5.0%   89.0%\n",
            "------------------------------------------------------------------------------------------------------------------------\n"
          ],
          "name": "stdout"
        }
      ]
    },
    {
      "cell_type": "code",
      "metadata": {
        "id": "Ere5v3GrHOSD",
        "colab_type": "code",
        "colab": {}
      },
      "source": [
        ""
      ],
      "execution_count": 0,
      "outputs": []
    },
    {
      "cell_type": "code",
      "metadata": {
        "id": "fNdGKKDJnDqv",
        "colab_type": "code",
        "colab": {}
      },
      "source": [
        "predicted_sentiments = [1 if score >= 0.1 else 0 for score in sentiment_polarity]"
      ],
      "execution_count": 0,
      "outputs": []
    }
  ]
}